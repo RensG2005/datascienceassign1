{
 "cells": [
  {
   "cell_type": "markdown",
   "metadata": {},
   "source": [
    "# Clean code for parts 1 and 2\n",
    "In this notebook we have the clean code we will copy and paste to the final generation file"
   ]
  },
  {
   "cell_type": "code",
   "execution_count": 53,
   "metadata": {},
   "outputs": [
    {
     "data": {
      "text/html": [
       "    <style>\n",
       "        .bk-notebook-logo {\n",
       "            display: block;\n",
       "            width: 20px;\n",
       "            height: 20px;\n",
       "            background-image: url(data:image/png;base64,iVBORw0KGgoAAAANSUhEUgAAABQAAAAUCAYAAACNiR0NAAAABHNCSVQICAgIfAhkiAAAAAlwSFlzAAALEgAACxIB0t1+/AAAABx0RVh0U29mdHdhcmUAQWRvYmUgRmlyZXdvcmtzIENTNui8sowAAAOkSURBVDiNjZRtaJVlGMd/1/08zzln5zjP1LWcU9N0NkN8m2CYjpgQYQXqSs0I84OLIC0hkEKoPtiH3gmKoiJDU7QpLgoLjLIQCpEsNJ1vqUOdO7ppbuec5+V+rj4ctwzd8IIbbi6u+8f1539dt3A78eXC7QizUF7gyV1fD1Yqg4JWz84yffhm0qkFqBogB9rM8tZdtwVsPUhWhGcFJngGeWrPzHm5oaMmkfEg1usvLFyc8jLRqDOMru7AyC8saQr7GG7f5fvDeH7Ej8CM66nIF+8yngt6HWaKh7k49Soy9nXurCi1o3qUbS3zWfrYeQDTB/Qj6kX6Ybhw4B+bOYoLKCC9H3Nu/leUTZ1JdRWkkn2ldcCamzrcf47KKXdAJllSlxAOkRgyHsGC/zRday5Qld9DyoM4/q/rUoy/CXh3jzOu3bHUVZeU+DEn8FInkPBFlu3+nW3Nw0mk6vCDiWg8CeJaxEwuHS3+z5RgY+YBR6V1Z1nxSOfoaPa4LASWxxdNp+VWTk7+4vzaou8v8PN+xo+KY2xsw6une2frhw05CTYOmQvsEhjhWjn0bmXPjpE1+kplmmkP3suftwTubK9Vq22qKmrBhpY4jvd5afdRA3wGjFAgcnTK2s4hY0/GPNIb0nErGMCRxWOOX64Z8RAC4oCXdklmEvcL8o0BfkNK4lUg9HTl+oPlQxdNo3Mg4Nv175e/1LDGzZen30MEjRUtmXSfiTVu1kK8W4txyV6BMKlbgk3lMwYCiusNy9fVfvvwMxv8Ynl6vxoByANLTWplvuj/nF9m2+PDtt1eiHPBr1oIfhCChQMBw6Aw0UulqTKZdfVvfG7VcfIqLG9bcldL/+pdWTLxLUy8Qq38heUIjh4XlzZxzQm19lLFlr8vdQ97rjZVOLf8nclzckbcD4wxXMidpX30sFd37Fv/GtwwhzhxGVAprjbg0gCAEeIgwCZyTV2Z1REEW8O4py0wsjeloKoMr6iCY6dP92H6Vw/oTyICIthibxjm/DfN9lVz8IqtqKYLUXfoKVMVQVVJOElGjrnnUt9T9wbgp8AyYKaGlqingHZU/uG2NTZSVqwHQTWkx9hxjkpWDaCg6Ckj5qebgBVbT3V3NNXMSiWSDdGV3hrtzla7J+duwPOToIg42ChPQOQjspnSlp1V+Gjdged7+8UN5CRAV7a5EdFNwCjEaBR27b3W890TE7g24NAP/mMDXRWrGoFPQI9ls/MWO2dWFAar/xcOIImbbpA3zgAAAABJRU5ErkJggg==);\n",
       "        }\n",
       "    </style>\n",
       "    <div>\n",
       "        <a href=\"https://bokeh.org\" target=\"_blank\" class=\"bk-notebook-logo\"></a>\n",
       "        <span id=\"d8a68082-6c9e-4f40-a62d-7a069e289164\">Loading BokehJS ...</span>\n",
       "    </div>\n"
      ]
     },
     "metadata": {},
     "output_type": "display_data"
    },
    {
     "data": {
      "application/javascript": "'use strict';\n(function(root) {\n  function now() {\n    return new Date();\n  }\n\n  const force = true;\n\n  if (typeof root._bokeh_onload_callbacks === \"undefined\" || force === true) {\n    root._bokeh_onload_callbacks = [];\n    root._bokeh_is_loading = undefined;\n  }\n\nconst JS_MIME_TYPE = 'application/javascript';\n  const HTML_MIME_TYPE = 'text/html';\n  const EXEC_MIME_TYPE = 'application/vnd.bokehjs_exec.v0+json';\n  const CLASS_NAME = 'output_bokeh rendered_html';\n\n  /**\n   * Render data to the DOM node\n   */\n  function render(props, node) {\n    const script = document.createElement(\"script\");\n    node.appendChild(script);\n  }\n\n  /**\n   * Handle when an output is cleared or removed\n   */\n  function handleClearOutput(event, handle) {\n    function drop(id) {\n      const view = Bokeh.index.get_by_id(id)\n      if (view != null) {\n        view.model.document.clear()\n        Bokeh.index.delete(view)\n      }\n    }\n\n    const cell = handle.cell;\n\n    const id = cell.output_area._bokeh_element_id;\n    const server_id = cell.output_area._bokeh_server_id;\n\n    // Clean up Bokeh references\n    if (id != null) {\n      drop(id)\n    }\n\n    if (server_id !== undefined) {\n      // Clean up Bokeh references\n      const cmd_clean = \"from bokeh.io.state import curstate; print(curstate().uuid_to_server['\" + server_id + \"'].get_sessions()[0].document.roots[0]._id)\";\n      cell.notebook.kernel.execute(cmd_clean, {\n        iopub: {\n          output: function(msg) {\n            const id = msg.content.text.trim()\n            drop(id)\n          }\n        }\n      });\n      // Destroy server and session\n      const cmd_destroy = \"import bokeh.io.notebook as ion; ion.destroy_server('\" + server_id + \"')\";\n      cell.notebook.kernel.execute(cmd_destroy);\n    }\n  }\n\n  /**\n   * Handle when a new output is added\n   */\n  function handleAddOutput(event, handle) {\n    const output_area = handle.output_area;\n    const output = handle.output;\n\n    // limit handleAddOutput to display_data with EXEC_MIME_TYPE content only\n    if ((output.output_type != \"display_data\") || (!Object.prototype.hasOwnProperty.call(output.data, EXEC_MIME_TYPE))) {\n      return\n    }\n\n    const toinsert = output_area.element.find(\".\" + CLASS_NAME.split(' ')[0]);\n\n    if (output.metadata[EXEC_MIME_TYPE][\"id\"] !== undefined) {\n      toinsert[toinsert.length - 1].firstChild.textContent = output.data[JS_MIME_TYPE];\n      // store reference to embed id on output_area\n      output_area._bokeh_element_id = output.metadata[EXEC_MIME_TYPE][\"id\"];\n    }\n    if (output.metadata[EXEC_MIME_TYPE][\"server_id\"] !== undefined) {\n      const bk_div = document.createElement(\"div\");\n      bk_div.innerHTML = output.data[HTML_MIME_TYPE];\n      const script_attrs = bk_div.children[0].attributes;\n      for (let i = 0; i < script_attrs.length; i++) {\n        toinsert[toinsert.length - 1].firstChild.setAttribute(script_attrs[i].name, script_attrs[i].value);\n        toinsert[toinsert.length - 1].firstChild.textContent = bk_div.children[0].textContent\n      }\n      // store reference to server id on output_area\n      output_area._bokeh_server_id = output.metadata[EXEC_MIME_TYPE][\"server_id\"];\n    }\n  }\n\n  function register_renderer(events, OutputArea) {\n\n    function append_mime(data, metadata, element) {\n      // create a DOM node to render to\n      const toinsert = this.create_output_subarea(\n        metadata,\n        CLASS_NAME,\n        EXEC_MIME_TYPE\n      );\n      this.keyboard_manager.register_events(toinsert);\n      // Render to node\n      const props = {data: data, metadata: metadata[EXEC_MIME_TYPE]};\n      render(props, toinsert[toinsert.length - 1]);\n      element.append(toinsert);\n      return toinsert\n    }\n\n    /* Handle when an output is cleared or removed */\n    events.on('clear_output.CodeCell', handleClearOutput);\n    events.on('delete.Cell', handleClearOutput);\n\n    /* Handle when a new output is added */\n    events.on('output_added.OutputArea', handleAddOutput);\n\n    /**\n     * Register the mime type and append_mime function with output_area\n     */\n    OutputArea.prototype.register_mime_type(EXEC_MIME_TYPE, append_mime, {\n      /* Is output safe? */\n      safe: true,\n      /* Index of renderer in `output_area.display_order` */\n      index: 0\n    });\n  }\n\n  // register the mime type if in Jupyter Notebook environment and previously unregistered\n  if (root.Jupyter !== undefined) {\n    const events = require('base/js/events');\n    const OutputArea = require('notebook/js/outputarea').OutputArea;\n\n    if (OutputArea.prototype.mime_types().indexOf(EXEC_MIME_TYPE) == -1) {\n      register_renderer(events, OutputArea);\n    }\n  }\n  if (typeof (root._bokeh_timeout) === \"undefined\" || force === true) {\n    root._bokeh_timeout = Date.now() + 5000;\n    root._bokeh_failed_load = false;\n  }\n\n  const NB_LOAD_WARNING = {'data': {'text/html':\n     \"<div style='background-color: #fdd'>\\n\"+\n     \"<p>\\n\"+\n     \"BokehJS does not appear to have successfully loaded. If loading BokehJS from CDN, this \\n\"+\n     \"may be due to a slow or bad network connection. Possible fixes:\\n\"+\n     \"</p>\\n\"+\n     \"<ul>\\n\"+\n     \"<li>re-rerun `output_notebook()` to attempt to load from CDN again, or</li>\\n\"+\n     \"<li>use INLINE resources instead, as so:</li>\\n\"+\n     \"</ul>\\n\"+\n     \"<code>\\n\"+\n     \"from bokeh.resources import INLINE\\n\"+\n     \"output_notebook(resources=INLINE)\\n\"+\n     \"</code>\\n\"+\n     \"</div>\"}};\n\n  function display_loaded(error = null) {\n    const el = document.getElementById(\"d8a68082-6c9e-4f40-a62d-7a069e289164\");\n    if (el != null) {\n      const html = (() => {\n        if (typeof root.Bokeh === \"undefined\") {\n          if (error == null) {\n            return \"BokehJS is loading ...\";\n          } else {\n            return \"BokehJS failed to load.\";\n          }\n        } else {\n          const prefix = `BokehJS ${root.Bokeh.version}`;\n          if (error == null) {\n            return `${prefix} successfully loaded.`;\n          } else {\n            return `${prefix} <b>encountered errors</b> while loading and may not function as expected.`;\n          }\n        }\n      })();\n      el.innerHTML = html;\n\n      if (error != null) {\n        const wrapper = document.createElement(\"div\");\n        wrapper.style.overflow = \"auto\";\n        wrapper.style.height = \"5em\";\n        wrapper.style.resize = \"vertical\";\n        const content = document.createElement(\"div\");\n        content.style.fontFamily = \"monospace\";\n        content.style.whiteSpace = \"pre-wrap\";\n        content.style.backgroundColor = \"rgb(255, 221, 221)\";\n        content.textContent = error.stack ?? error.toString();\n        wrapper.append(content);\n        el.append(wrapper);\n      }\n    } else if (Date.now() < root._bokeh_timeout) {\n      setTimeout(() => display_loaded(error), 100);\n    }\n  }\n\n  function run_callbacks() {\n    try {\n      root._bokeh_onload_callbacks.forEach(function(callback) {\n        if (callback != null)\n          callback();\n      });\n    } finally {\n      delete root._bokeh_onload_callbacks\n    }\n    console.debug(\"Bokeh: all callbacks have finished\");\n  }\n\n  function load_libs(css_urls, js_urls, callback) {\n    if (css_urls == null) css_urls = [];\n    if (js_urls == null) js_urls = [];\n\n    root._bokeh_onload_callbacks.push(callback);\n    if (root._bokeh_is_loading > 0) {\n      console.debug(\"Bokeh: BokehJS is being loaded, scheduling callback at\", now());\n      return null;\n    }\n    if (js_urls == null || js_urls.length === 0) {\n      run_callbacks();\n      return null;\n    }\n    console.debug(\"Bokeh: BokehJS not loaded, scheduling load and callback at\", now());\n    root._bokeh_is_loading = css_urls.length + js_urls.length;\n\n    function on_load() {\n      root._bokeh_is_loading--;\n      if (root._bokeh_is_loading === 0) {\n        console.debug(\"Bokeh: all BokehJS libraries/stylesheets loaded\");\n        run_callbacks()\n      }\n    }\n\n    function on_error(url) {\n      console.error(\"failed to load \" + url);\n    }\n\n    for (let i = 0; i < css_urls.length; i++) {\n      const url = css_urls[i];\n      const element = document.createElement(\"link\");\n      element.onload = on_load;\n      element.onerror = on_error.bind(null, url);\n      element.rel = \"stylesheet\";\n      element.type = \"text/css\";\n      element.href = url;\n      console.debug(\"Bokeh: injecting link tag for BokehJS stylesheet: \", url);\n      document.body.appendChild(element);\n    }\n\n    for (let i = 0; i < js_urls.length; i++) {\n      const url = js_urls[i];\n      const element = document.createElement('script');\n      element.onload = on_load;\n      element.onerror = on_error.bind(null, url);\n      element.async = false;\n      element.src = url;\n      console.debug(\"Bokeh: injecting script tag for BokehJS library: \", url);\n      document.head.appendChild(element);\n    }\n  };\n\n  function inject_raw_css(css) {\n    const element = document.createElement(\"style\");\n    element.appendChild(document.createTextNode(css));\n    document.body.appendChild(element);\n  }\n\n  const js_urls = [\"https://cdn.bokeh.org/bokeh/release/bokeh-3.6.2.min.js\", \"https://cdn.bokeh.org/bokeh/release/bokeh-gl-3.6.2.min.js\", \"https://cdn.bokeh.org/bokeh/release/bokeh-widgets-3.6.2.min.js\", \"https://cdn.bokeh.org/bokeh/release/bokeh-tables-3.6.2.min.js\", \"https://cdn.bokeh.org/bokeh/release/bokeh-mathjax-3.6.2.min.js\"];\n  const css_urls = [];\n\n  const inline_js = [    function(Bokeh) {\n      Bokeh.set_log_level(\"info\");\n    },\nfunction(Bokeh) {\n    }\n  ];\n\n  function run_inline_js() {\n    if (root.Bokeh !== undefined || force === true) {\n      try {\n            for (let i = 0; i < inline_js.length; i++) {\n      inline_js[i].call(root, root.Bokeh);\n    }\n\n      } catch (error) {display_loaded(error);throw error;\n      }if (force === true) {\n        display_loaded();\n      }} else if (Date.now() < root._bokeh_timeout) {\n      setTimeout(run_inline_js, 100);\n    } else if (!root._bokeh_failed_load) {\n      console.log(\"Bokeh: BokehJS failed to load within specified timeout.\");\n      root._bokeh_failed_load = true;\n    } else if (force !== true) {\n      const cell = $(document.getElementById(\"d8a68082-6c9e-4f40-a62d-7a069e289164\")).parents('.cell').data().cell;\n      cell.output_area.append_execute_result(NB_LOAD_WARNING)\n    }\n  }\n\n  if (root._bokeh_is_loading === 0) {\n    console.debug(\"Bokeh: BokehJS loaded, going straight to plotting\");\n    run_inline_js();\n  } else {\n    load_libs(css_urls, js_urls, function() {\n      console.debug(\"Bokeh: BokehJS plotting callback run at\", now());\n      run_inline_js();\n    });\n  }\n}(window));",
      "application/vnd.bokehjs_load.v0+json": ""
     },
     "metadata": {},
     "output_type": "display_data"
    }
   ],
   "source": [
    "#Imports:\n",
    "import numpy as np\n",
    "import pandas as pd\n",
    "import datetime as dt\n",
    "import geopandas\n",
    "import bokeh\n",
    "import json\n",
    "from bokeh.models import CustomJS, ColumnDataSource, Button, FactorRange, Tabs, TabPanel\n",
    "from bokeh.palettes import Blues\n",
    "from bokeh.plotting import figure, show\n",
    "from bokeh.layouts import column\n",
    "from bokeh.models.ranges import FactorRange\n",
    "from bokeh.transform import factor_cmap,dodge\n",
    "from bokeh.io import output_notebook\n",
    "from datetime import timedelta\n",
    "\n",
    "output_notebook() #for now, later we will output to the html files that will be on the dashboard"
   ]
  },
  {
   "cell_type": "markdown",
   "metadata": {},
   "source": [
    "## data importing"
   ]
  },
  {
   "cell_type": "code",
   "execution_count": 12,
   "metadata": {},
   "outputs": [],
   "source": [
    "#importing the dataframe\n",
    "df = pd.read_csv(\"sales_df.csv\")\n",
    "df['transaction date'] = pd.to_datetime(df['transaction date'])#make this column a datetime column\n",
    "df.rename(columns={ df.columns[0]: \"index\" }, inplace = True)\n",
    "df = df.set_index(\"index\")\n",
    "#make a new column with the date of the week, we need this in part 2\n",
    "df['day of week'] = df['transaction date'].dt.weekday #monday is 0 "
   ]
  },
  {
   "cell_type": "markdown",
   "metadata": {},
   "source": [
    "## Maps and general variable we will use later"
   ]
  },
  {
   "cell_type": "code",
   "execution_count": 13,
   "metadata": {},
   "outputs": [],
   "source": [
    "#month relevant data\n",
    "month_map = {\n",
    "    \"Jun\": 6,\"Jul\": 7, \"Aug\": 8, \"Sep\": 9, \"Oct\": 10, \"Nov\": 11, \"Dec\": 12\n",
    "}\n",
    "months = list(month_map.keys())\n",
    "daily_data = {#days of each relevant month\n",
    "    \"Jun\": [str(i) for i in range(1, 31)],\n",
    "    \"Jul\": [str(i) for i in range(1, 32)],\n",
    "    \"Aug\": [str(i) for i in range(1, 32)],\n",
    "    \"Sep\": [str(i) for i in range(1, 31)],\n",
    "    \"Oct\": [str(i) for i in range(1, 32)],\n",
    "    \"Nov\": [str(i) for i in range(1, 31)],\n",
    "    \"Dec\": [str(i) for i in range(1, 32)]\n",
    "}\n",
    "\n",
    "#day relevant data\n",
    "days_map = {\n",
    "    \"Mon\": 0, \"Tue\": 1, \"Wed\": 2, \"Thu\": 3, \"Fri\": 4, \"Sat\": 5,\n",
    "    \"Sun\": 6\n",
    "}\n",
    "days = list(days_map.keys())"
   ]
  },
  {
   "cell_type": "markdown",
   "metadata": {},
   "source": [
    "## Part 1: Sales Volume\n",
    "This part contains two plots: one for the total sales in euros (sales data), and one for the number of sales (sales volume)"
   ]
  },
  {
   "cell_type": "markdown",
   "metadata": {},
   "source": [
    "### Regular data processing"
   ]
  },
  {
   "cell_type": "code",
   "execution_count": 21,
   "metadata": {},
   "outputs": [],
   "source": [
    "#the initial plot can use dictionary input: we will process that here\n",
    "#first plot with sale amounts:\n",
    "daily_sales_amounts = {}#will contain for every month a list of length days of that month, all daily values\n",
    "monthly_sums_amounts = []#will contain the bar data we need later\n",
    "\n",
    "#second plot with sales volumes:\n",
    "daily_sales_volumes = {}#will contain for every month a list of length days of that months, all daily volumes\n",
    "monthly_sums_volumes = []#will contain the bar data we need later\n",
    "for month in months:\n",
    "    #the entire dataframe for just this month:\n",
    "    month_df = df.loc[df['transaction date'].dt.month == month_map[month]]\n",
    "\n",
    "    #month bar data for first plot:\n",
    "    monthly_sums_amounts.append(month_df['amount (merchant currency)'].sum())#sum the series to get that months total\n",
    "    #month bar data for second plot:\n",
    "    monthly_sums_volumes.append(len(month_df))\n",
    "\n",
    "    #now for the daily values of both plots:\n",
    "    day_list_amounts = []\n",
    "    day_list_volumes = []\n",
    "    for i in daily_data[month]:\n",
    "        day_list_amounts.append(sum(month_df.loc[month_df['transaction date'].dt.day==int(i)]['amount (merchant currency)']))#plot 1\n",
    "        day_list_volumes.append(len(month_df.loc[month_df['transaction date'].dt.day==int(i)]))#plot 2\n",
    "    #now we need the daily values as a list to append to the daily values dictionary\n",
    "    daily_sales_amounts[month] = day_list_amounts#plot 1\n",
    "    daily_sales_volumes[month] = day_list_volumes#plot 2"
   ]
  },
  {
   "cell_type": "markdown",
   "metadata": {},
   "source": [
    "### Flat list processing"
   ]
  },
  {
   "cell_type": "code",
   "execution_count": 22,
   "metadata": {},
   "outputs": [],
   "source": [
    "#The customJS script unfortunately can't process dictionaries. So we have to make a flattend list and \n",
    "#get the data through smart indexing\n",
    "all_days = [] #flat days of month list\n",
    "all_values_sales = []#flat amounts list for first plot\n",
    "all_values_volumes = []#flat amounts list for second plot\n",
    "month_indices = {}  #start & end indices for each month\n",
    "\n",
    "#now we do the same process above, but now with flat lists\n",
    "current_index = 0\n",
    "for month in months:\n",
    "    days = daily_data[month]\n",
    "    sales_values = daily_sales_amounts[month]\n",
    "    sales_volumes = daily_sales_volumes[month]\n",
    "    month_indices[month] = (current_index, current_index + len(days))  # Store index range\n",
    "    all_days.extend(days)\n",
    "    all_values_sales.extend(sales_values)\n",
    "    all_values_volumes.extend(sales_volumes)\n",
    "    current_index += len(days)  # Update starting index for next month\n",
    "\n",
    "#We convert lists to JSON for JavaScript\n",
    "all_days_json = json.dumps(all_days)\n",
    "month_indices_json = json.dumps(month_indices)  # Will be parsed into an object\n",
    "#now we need the values for the two plots:\n",
    "all_values_sales_json = json.dumps(all_values_sales)#first plot\n",
    "all_values_volumes_json = json.dumps(all_values_volumes)#second plot"
   ]
  },
  {
   "cell_type": "markdown",
   "metadata": {},
   "source": [
    "## First bokeh plot: sales data (in euros)"
   ]
  },
  {
   "cell_type": "code",
   "execution_count": 80,
   "metadata": {},
   "outputs": [],
   "source": [
    "# Bokeh data source for the main plot\n",
    "cds = ColumnDataSource(data={\"x\": months, \"y\": monthly_sums_amounts})\n",
    "\n",
    "fig1 = figure(x_range=FactorRange(*months), height=400, title=\"Monthly Sales Data, click on bar to get daily info\", tools=\"tap\", toolbar_location=None)\n",
    "fig1.vbar(x=\"x\", top=\"y\", width=0.5, source=cds)\n",
    "\n",
    "button1 = Button(label=\"Back to Month Overview\", button_type=\"success\", visible=False)\n",
    "\n",
    "fig1.yaxis.axis_label = \"euros\"\n",
    "# Pass this max value to the JavaScript callback\n",
    "callback = CustomJS(args=dict(source=cds, p=fig1, button=button1,\n",
    "                              all_days_json=all_days_json,\n",
    "                              all_values_json=all_values_sales_json,\n",
    "                              month_indices_json=month_indices_json),\n",
    "                    code=\"\"\"\n",
    "    var selected = source.selected.indices[0]; \n",
    "    if (selected === undefined) return;\n",
    "\n",
    "    // Parse JSON data into arrays\n",
    "    var all_days = JSON.parse(all_days_json);\n",
    "    var all_values = JSON.parse(all_values_json);\n",
    "    var month_indices = JSON.parse(month_indices_json);\n",
    "\n",
    "    var month = source.data['x'][selected];\n",
    "\n",
    "    if (!(month in month_indices)) return;\n",
    "\n",
    "    var start_idx = month_indices[month][0];\n",
    "    var end_idx = month_indices[month][1];\n",
    "\n",
    "    var days = all_days.slice(start_idx, end_idx);\n",
    "    var values = all_values.slice(start_idx, end_idx);\n",
    "\n",
    "    source.data['x'] = days;\n",
    "    source.data['y'] = values;\n",
    "    source.change.emit();\n",
    "\n",
    "    // Update x-axis dynamically\n",
    "    p.x_range.factors = days;\n",
    "    p.title.text = \"Daily Sales Data of \" + month;\n",
    "\n",
    "    source.selected.indices = [];\n",
    "    button.visible = true;\n",
    "\"\"\")\n",
    "# JavaScript for resetting the plot to monthly view\n",
    "reset_callback = CustomJS(args=dict(source=cds, p=fig1, button=button1, \n",
    "                                    months=months, monthly_sums=monthly_sums_amounts), \n",
    "                          code=\"\"\"\n",
    "    // Restore the original monthly data\n",
    "    source.data['x'] = months;  // Use the months list directly\n",
    "    source.data['y'] = monthly_sums;  // Use the original monthly sums\n",
    "    source.change.emit();\n",
    "    // Reset x-axis to show months\n",
    "    p.x_range.factors = months;\n",
    "    // Reset title\n",
    "    p.title.text = \"Monthly Sales Data, click on bar to get daily info\";\n",
    "    // Deselect any selected bars\n",
    "    source.selected.indices = [];\n",
    "    // Hide back button again\n",
    "    button.visible = false;\n",
    "\"\"\")\n",
    "\n",
    "# Attach the callback to the button\n",
    "button1.js_on_event(\"button_click\", reset_callback)\n",
    "\n",
    "\n",
    "cds.selected.js_on_change('indices', callback)"
   ]
  },
  {
   "cell_type": "markdown",
   "metadata": {},
   "source": [
    "## Second bokeh plot: Sales volumes"
   ]
  },
  {
   "cell_type": "code",
   "execution_count": 79,
   "metadata": {},
   "outputs": [],
   "source": [
    "# Bokeh data source for the main plot\n",
    "cds = ColumnDataSource(data={\"x\": months, \"y\": monthly_sums_volumes})\n",
    "\n",
    "fig2 = figure(x_range=FactorRange(*months), height=400, title=\"Monthly Sale amounts, click on bar to get daily info\", tools=\"tap\", toolbar_location=None)\n",
    "fig2.vbar(x=\"x\", top=\"y\", width=0.5, source=cds)\n",
    "\n",
    "button2 = Button(label=\"Back to Month Overview\", button_type=\"success\", visible=False)\n",
    "# Find the global max for daily values\n",
    "global_max_y = max(all_values_volumes) * 1.1  # Add 10% buffer for visual clarity\n",
    "\n",
    "fig2.yaxis.axis_label = \"amount of sales\"\n",
    "# Pass this max value to the JavaScript callback\n",
    "callback = CustomJS(args=dict(source=cds, p=fig2, button=button2,\n",
    "                              all_days_json=all_days_json,\n",
    "                              all_values_json=all_values_volumes_json,\n",
    "                              month_indices_json=month_indices_json,\n",
    "                              global_max_y=global_max_y),\n",
    "                    code=\"\"\"\n",
    "    var selected = source.selected.indices[0]; \n",
    "    if (selected === undefined) return;\n",
    "\n",
    "    // Parse JSON data into arrays\n",
    "    var all_days = JSON.parse(all_days_json);\n",
    "    var all_values = JSON.parse(all_values_json);\n",
    "    var month_indices = JSON.parse(month_indices_json);\n",
    "\n",
    "    var month = source.data['x'][selected];\n",
    "\n",
    "    if (!(month in month_indices)) return;\n",
    "\n",
    "    var start_idx = month_indices[month][0];\n",
    "    var end_idx = month_indices[month][1];\n",
    "\n",
    "    var days = all_days.slice(start_idx, end_idx);\n",
    "    var values = all_values.slice(start_idx, end_idx);\n",
    "\n",
    "    source.data['x'] = days;\n",
    "    source.data['y'] = values;\n",
    "    source.change.emit();\n",
    "\n",
    "    // Set consistent y-axis range\n",
    "    p.y_range.start = 0;\n",
    "    p.y_range.end = global_max_y;  \n",
    "    p.change.emit();\n",
    "    \n",
    "    // Update x-axis dynamically\n",
    "    p.x_range.factors = days;\n",
    "    p.title.text = \"Daily Sale amounts of \" + month;\n",
    "\n",
    "    source.selected.indices = [];\n",
    "    button.visible = true;\n",
    "\"\"\")\n",
    "# JavaScript for resetting the plot to monthly view\n",
    "reset_callback = CustomJS(args=dict(source=cds, p=fig2, button=button2, \n",
    "                                    months=months, monthly_sums=monthly_sums_volumes), \n",
    "                          code=\"\"\"\n",
    "    // Restore the original monthly data\n",
    "    source.data['x'] = months;  // Use the months list directly\n",
    "    source.data['y'] = monthly_sums;  // Use the original monthly sums\n",
    "    source.change.emit();\n",
    "    // Reset x-axis to show months\n",
    "    p.x_range.factors = months;\n",
    "    // Reset title\n",
    "    p.title.text = \"Monthly Sale amounts, click on bar to get daily info\";\n",
    "    // Deselect any selected bars\n",
    "    source.selected.indices = [];\n",
    "    // Hide back button again\n",
    "    button.visible = false;\n",
    "\"\"\")\n",
    "\n",
    "# Attach the callback to the button\n",
    "button2.js_on_event(\"button_click\", reset_callback)\n",
    "\n",
    "\n",
    "cds.selected.js_on_change('indices', callback)"
   ]
  },
  {
   "cell_type": "markdown",
   "metadata": {},
   "source": [
    "## Showing both plots in one diagram"
   ]
  },
  {
   "cell_type": "code",
   "execution_count": 78,
   "metadata": {},
   "outputs": [
    {
     "data": {
      "text/html": [
       "\n",
       "  <div id=\"e52c13cb-a195-4e21-9d94-ffe17ae49a4b\" data-root-id=\"p2310\" style=\"display: contents;\"></div>\n"
      ]
     },
     "metadata": {},
     "output_type": "display_data"
    },
    {
     "data": {
      "application/javascript": "(function(root) {\n  function embed_document(root) {\n  const docs_json = {\"6ca82cf9-cae4-4584-bdc8-e1bcb58ca205\":{\"version\":\"3.6.2\",\"title\":\"Bokeh Application\",\"roots\":[{\"type\":\"object\",\"name\":\"Tabs\",\"id\":\"p2310\",\"attributes\":{\"tabs\":[{\"type\":\"object\",\"name\":\"TabPanel\",\"id\":\"p2307\",\"attributes\":{\"title\":\"Sales Volume (euros)\",\"child\":{\"type\":\"object\",\"name\":\"Column\",\"id\":\"p2306\",\"attributes\":{\"children\":[{\"type\":\"object\",\"name\":\"Button\",\"id\":\"p2225\",\"attributes\":{\"button_type\":\"success\",\"js_event_callbacks\":{\"type\":\"map\",\"entries\":[[\"button_click\",[{\"type\":\"object\",\"name\":\"CustomJS\",\"id\":\"p2227\",\"attributes\":{\"args\":{\"type\":\"map\",\"entries\":[[\"source\",{\"type\":\"object\",\"name\":\"ColumnDataSource\",\"id\":\"p2189\",\"attributes\":{\"selected\":{\"type\":\"object\",\"name\":\"Selection\",\"id\":\"p2190\",\"attributes\":{\"js_property_callbacks\":{\"type\":\"map\",\"entries\":[[\"change:indices\",[{\"type\":\"object\",\"name\":\"CustomJS\",\"id\":\"p2226\",\"attributes\":{\"args\":{\"type\":\"map\",\"entries\":[[\"source\",{\"id\":\"p2189\"}],[\"p\",{\"type\":\"object\",\"name\":\"Figure\",\"id\":\"p2193\",\"attributes\":{\"height\":400,\"x_range\":{\"type\":\"object\",\"name\":\"FactorRange\",\"id\":\"p2192\",\"attributes\":{\"factors\":[\"Jun\",\"Jul\",\"Aug\",\"Sep\",\"Oct\",\"Nov\",\"Dec\"]}},\"y_range\":{\"type\":\"object\",\"name\":\"DataRange1d\",\"id\":\"p2195\"},\"x_scale\":{\"type\":\"object\",\"name\":\"CategoricalScale\",\"id\":\"p2203\"},\"y_scale\":{\"type\":\"object\",\"name\":\"LinearScale\",\"id\":\"p2204\"},\"title\":{\"type\":\"object\",\"name\":\"Title\",\"id\":\"p2196\",\"attributes\":{\"text\":\"Monthly Sales Data, click on bar to get daily info\"}},\"renderers\":[{\"type\":\"object\",\"name\":\"GlyphRenderer\",\"id\":\"p2222\",\"attributes\":{\"data_source\":{\"id\":\"p2189\"},\"view\":{\"type\":\"object\",\"name\":\"CDSView\",\"id\":\"p2223\",\"attributes\":{\"filter\":{\"type\":\"object\",\"name\":\"AllIndices\",\"id\":\"p2224\"}}},\"glyph\":{\"type\":\"object\",\"name\":\"VBar\",\"id\":\"p2219\",\"attributes\":{\"x\":{\"type\":\"field\",\"field\":\"x\"},\"width\":{\"type\":\"value\",\"value\":0.5},\"top\":{\"type\":\"field\",\"field\":\"y\"},\"line_color\":{\"type\":\"value\",\"value\":\"#1f77b4\"},\"fill_color\":{\"type\":\"value\",\"value\":\"#1f77b4\"}}},\"nonselection_glyph\":{\"type\":\"object\",\"name\":\"VBar\",\"id\":\"p2220\",\"attributes\":{\"x\":{\"type\":\"field\",\"field\":\"x\"},\"width\":{\"type\":\"value\",\"value\":0.5},\"top\":{\"type\":\"field\",\"field\":\"y\"},\"line_color\":{\"type\":\"value\",\"value\":\"#1f77b4\"},\"line_alpha\":{\"type\":\"value\",\"value\":0.1},\"fill_color\":{\"type\":\"value\",\"value\":\"#1f77b4\"},\"fill_alpha\":{\"type\":\"value\",\"value\":0.1},\"hatch_alpha\":{\"type\":\"value\",\"value\":0.1}}},\"muted_glyph\":{\"type\":\"object\",\"name\":\"VBar\",\"id\":\"p2221\",\"attributes\":{\"x\":{\"type\":\"field\",\"field\":\"x\"},\"width\":{\"type\":\"value\",\"value\":0.5},\"top\":{\"type\":\"field\",\"field\":\"y\"},\"line_color\":{\"type\":\"value\",\"value\":\"#1f77b4\"},\"line_alpha\":{\"type\":\"value\",\"value\":0.2},\"fill_color\":{\"type\":\"value\",\"value\":\"#1f77b4\"},\"fill_alpha\":{\"type\":\"value\",\"value\":0.2},\"hatch_alpha\":{\"type\":\"value\",\"value\":0.2}}}}}],\"toolbar\":{\"type\":\"object\",\"name\":\"Toolbar\",\"id\":\"p2202\",\"attributes\":{\"tools\":[{\"type\":\"object\",\"name\":\"TapTool\",\"id\":\"p2215\",\"attributes\":{\"renderers\":\"auto\"}}]}},\"toolbar_location\":null,\"left\":[{\"type\":\"object\",\"name\":\"LinearAxis\",\"id\":\"p2210\",\"attributes\":{\"ticker\":{\"type\":\"object\",\"name\":\"BasicTicker\",\"id\":\"p2211\",\"attributes\":{\"mantissas\":[1,2,5]}},\"formatter\":{\"type\":\"object\",\"name\":\"BasicTickFormatter\",\"id\":\"p2212\"},\"axis_label\":\"euros\",\"major_label_policy\":{\"type\":\"object\",\"name\":\"AllLabels\",\"id\":\"p2213\"}}}],\"below\":[{\"type\":\"object\",\"name\":\"CategoricalAxis\",\"id\":\"p2205\",\"attributes\":{\"ticker\":{\"type\":\"object\",\"name\":\"CategoricalTicker\",\"id\":\"p2206\"},\"formatter\":{\"type\":\"object\",\"name\":\"CategoricalTickFormatter\",\"id\":\"p2207\"},\"major_label_policy\":{\"type\":\"object\",\"name\":\"AllLabels\",\"id\":\"p2208\"}}}],\"center\":[{\"type\":\"object\",\"name\":\"Grid\",\"id\":\"p2209\",\"attributes\":{\"axis\":{\"id\":\"p2205\"}}},{\"type\":\"object\",\"name\":\"Grid\",\"id\":\"p2214\",\"attributes\":{\"dimension\":1,\"axis\":{\"id\":\"p2210\"}}}]}}],[\"button\",{\"id\":\"p2225\"}],[\"all_days_json\",\"[\\\"1\\\", \\\"2\\\", \\\"3\\\", \\\"4\\\", \\\"5\\\", \\\"6\\\", \\\"7\\\", \\\"8\\\", \\\"9\\\", \\\"10\\\", \\\"11\\\", \\\"12\\\", \\\"13\\\", \\\"14\\\", \\\"15\\\", \\\"16\\\", \\\"17\\\", \\\"18\\\", \\\"19\\\", \\\"20\\\", \\\"21\\\", \\\"22\\\", \\\"23\\\", \\\"24\\\", \\\"25\\\", \\\"26\\\", \\\"27\\\", \\\"28\\\", \\\"29\\\", \\\"30\\\", \\\"1\\\", \\\"2\\\", \\\"3\\\", \\\"4\\\", \\\"5\\\", \\\"6\\\", \\\"7\\\", \\\"8\\\", \\\"9\\\", \\\"10\\\", \\\"11\\\", \\\"12\\\", \\\"13\\\", \\\"14\\\", \\\"15\\\", \\\"16\\\", \\\"17\\\", \\\"18\\\", \\\"19\\\", \\\"20\\\", \\\"21\\\", \\\"22\\\", \\\"23\\\", \\\"24\\\", \\\"25\\\", \\\"26\\\", \\\"27\\\", \\\"28\\\", \\\"29\\\", \\\"30\\\", \\\"31\\\", \\\"1\\\", \\\"2\\\", \\\"3\\\", \\\"4\\\", \\\"5\\\", \\\"6\\\", \\\"7\\\", \\\"8\\\", \\\"9\\\", \\\"10\\\", \\\"11\\\", \\\"12\\\", \\\"13\\\", \\\"14\\\", \\\"15\\\", \\\"16\\\", \\\"17\\\", \\\"18\\\", \\\"19\\\", \\\"20\\\", \\\"21\\\", \\\"22\\\", \\\"23\\\", \\\"24\\\", \\\"25\\\", \\\"26\\\", \\\"27\\\", \\\"28\\\", \\\"29\\\", \\\"30\\\", \\\"31\\\", \\\"1\\\", \\\"2\\\", \\\"3\\\", \\\"4\\\", \\\"5\\\", \\\"6\\\", \\\"7\\\", \\\"8\\\", \\\"9\\\", \\\"10\\\", \\\"11\\\", \\\"12\\\", \\\"13\\\", \\\"14\\\", \\\"15\\\", \\\"16\\\", \\\"17\\\", \\\"18\\\", \\\"19\\\", \\\"20\\\", \\\"21\\\", \\\"22\\\", \\\"23\\\", \\\"24\\\", \\\"25\\\", \\\"26\\\", \\\"27\\\", \\\"28\\\", \\\"29\\\", \\\"30\\\", \\\"1\\\", \\\"2\\\", \\\"3\\\", \\\"4\\\", \\\"5\\\", \\\"6\\\", \\\"7\\\", \\\"8\\\", \\\"9\\\", \\\"10\\\", \\\"11\\\", \\\"12\\\", \\\"13\\\", \\\"14\\\", \\\"15\\\", \\\"16\\\", \\\"17\\\", \\\"18\\\", \\\"19\\\", \\\"20\\\", \\\"21\\\", \\\"22\\\", \\\"23\\\", \\\"24\\\", \\\"25\\\", \\\"26\\\", \\\"27\\\", \\\"28\\\", \\\"29\\\", \\\"30\\\", \\\"31\\\", \\\"1\\\", \\\"2\\\", \\\"3\\\", \\\"4\\\", \\\"5\\\", \\\"6\\\", \\\"7\\\", \\\"8\\\", \\\"9\\\", \\\"10\\\", \\\"11\\\", \\\"12\\\", \\\"13\\\", \\\"14\\\", \\\"15\\\", \\\"16\\\", \\\"17\\\", \\\"18\\\", \\\"19\\\", \\\"20\\\", \\\"21\\\", \\\"22\\\", \\\"23\\\", \\\"24\\\", \\\"25\\\", \\\"26\\\", \\\"27\\\", \\\"28\\\", \\\"29\\\", \\\"30\\\", \\\"1\\\", \\\"2\\\", \\\"3\\\", \\\"4\\\", \\\"5\\\", \\\"6\\\", \\\"7\\\", \\\"8\\\", \\\"9\\\", \\\"10\\\", \\\"11\\\", \\\"12\\\", \\\"13\\\", \\\"14\\\", \\\"15\\\", \\\"16\\\", \\\"17\\\", \\\"18\\\", \\\"19\\\", \\\"20\\\", \\\"21\\\", \\\"22\\\", \\\"23\\\", \\\"24\\\", \\\"25\\\", \\\"26\\\", \\\"27\\\", \\\"28\\\", \\\"29\\\", \\\"30\\\", \\\"31\\\"]\"],[\"all_values_json\",\"[7.35, 34.39, 22.23, 23.9, 9.02, 48.79, 53.79, 10.77, 14.75, 2.87, 36.01, 28.48, 43.410000000000004, 18.93, 26.34, 29.84, 22.62, 22.7, 34.24, 35.16, 19.77, 43.36, 31.65, 51.51, 26.45, 22.56, 25.68, 48.01, 12.15, 50.51, 40.29, 33.81, 41.72, 35.08, 32.09, 20.29, 26.85, 31.61, 15.68, 78.92, 69.19, 27.78, 43.38, 20.990000000000002, 54.71, 20.7, 36.6, 45.21, 33.13, 12.32, 27.92, 22.97, 34.92, 45.94, 25.5, 12.72, 36.79, 27.4, 28.66, 52.41, 42.48, 32.98, 34.41, 25.43, 33.339999999999996, 9.76, 31.32, 29.15, 57.08, 2.97, 58.18, 7.65, 15.74, 23.42, 60.910000000000004, 64.01, 55.75, 14.549999999999999, 9.45, 22.740000000000002, 32.190000000000005, 12.790000000000001, 51.47, 17.060000000000002, 32.29, 28.03, 21.2, 56.85, 34.95, 43.120000000000005, 37.160000000000004, 23.62, 29.13, 42.52, 34.2, 27.38, 55.910000000000004, 18.08, 25.68, 26.240000000000002, 37.95, 10.98, 35.050000000000004, 26.970000000000002, 3.48, 15.030000000000001, 7.6000000000000005, 38.19, 40.4, 37.5, 42.21, 7.680000000000001, 11.44, 20.05, 34.730000000000004, 54.16, 66.94, 32.96, 26.26, 17.48, 29.79, 47.85, 14.23, 15.5, 35.84, 3.01, 3.01, 15.54, 32.43, 15.69, 37.5, 29.57, 46.35, 42.98, 27.67, 26.259999999999998, 31.820000000000004, 83.06, 33.25, 35.17, 26.82, 14.79, 14.16, 14.94, 33.86, 35.43, 48.99, 29.200000000000003, 18.79, 31.71, 17.18, 23.39, 22.02, 18.07651362448694, 26.219811064172468, 26.00496506186112, 9.965814243192685, 32.843141023181055, 56.08814643642532, 35.51122265436402, 10.156295670768277, 40.185630795393855, 45.65748213124279, 14.76751767286552, 30.267295597484278, 41.96359769413181, 66.2438730144009, 35.68708340141912, 46.950812525715484, 11.598944573726556, 42.364636705343216, 37.933932499070714, 42.9893234708579, 50.69677910726084, 25.426357110795006, 28.340122899973487, 24.10563835479425, 31.33382696248775, 21.315031402663905, 31.686023211560254, 43.41743465117568, 47.00829808256736, 20.700424907773343, 26.679941665193567, 16.88861451627128, 13.789744043928792, 51.868020252535054, 44.27902726913329, 26.821812590736574, 16.63316275764037, 18.930878838835298, 16.408805587481215, 21.312741949791537, 28.240302743614002, 96.59312158207456, 40.81397410888456, 41.9445827012388, 23.63700941218256, 31.753275874597204, 54.26364947137498, 55.45928741932632, 39.887739046363116, 33.54684123057372, 5.338645418326694, 31.225021679497388, 19.525698116058866, 27.71805700801475, 21.574924461683487, 28.075738768542703, 47.253744071402856, 24.906511353288792, 31.664159957533396, 21.802963807671315, 31.424174165736616]\"],[\"month_indices_json\",\"{\\\"Jun\\\": [0, 30], \\\"Jul\\\": [30, 61], \\\"Aug\\\": [61, 92], \\\"Sep\\\": [92, 122], \\\"Oct\\\": [122, 153], \\\"Nov\\\": [153, 183], \\\"Dec\\\": [183, 214]}\"]]},\"code\":\"\\n    var selected = source.selected.indices[0]; \\n    if (selected === undefined) return;\\n\\n    // Parse JSON data into arrays\\n    var all_days = JSON.parse(all_days_json);\\n    var all_values = JSON.parse(all_values_json);\\n    var month_indices = JSON.parse(month_indices_json);\\n\\n    var month = source.data['x'][selected];\\n\\n    if (!(month in month_indices)) return;\\n\\n    var start_idx = month_indices[month][0];\\n    var end_idx = month_indices[month][1];\\n\\n    var days = all_days.slice(start_idx, end_idx);\\n    var values = all_values.slice(start_idx, end_idx);\\n\\n    source.data['x'] = days;\\n    source.data['y'] = values;\\n    source.change.emit();\\n\\n    // Update x-axis dynamically\\n    p.x_range.factors = days;\\n    p.title.text = \\\"Daily Sales Data of \\\" + month;\\n\\n    source.selected.indices = [];\\n    button.visible = true;\\n\"}}]]]},\"indices\":[],\"line_indices\":[]}},\"selection_policy\":{\"type\":\"object\",\"name\":\"UnionRenderers\",\"id\":\"p2191\"},\"data\":{\"type\":\"map\",\"entries\":[[\"x\",[\"Jun\",\"Jul\",\"Aug\",\"Sep\",\"Oct\",\"Nov\",\"Dec\"]],[\"y\",[857.24,1078.06,979.5699999999999,903.84,860.1600000000001,995.505976551156,990.2621718695337]]]}}}],[\"p\",{\"id\":\"p2193\"}],[\"button\",{\"id\":\"p2225\"}],[\"months\",[\"Jun\",\"Jul\",\"Aug\",\"Sep\",\"Oct\",\"Nov\",\"Dec\"]],[\"monthly_sums\",[857.24,1078.06,979.5699999999999,903.84,860.1600000000001,995.505976551156,990.2621718695337]]]},\"code\":\"\\n    // Restore the original monthly data\\n    source.data['x'] = months;  // Use the months list directly\\n    source.data['y'] = monthly_sums;  // Use the original monthly sums\\n    source.change.emit();\\n    // Reset x-axis to show months\\n    p.x_range.factors = months;\\n    // Reset title\\n    p.title.text = \\\"Monthly Sales Data, click on bar to get daily info\\\";\\n    // Deselect any selected bars\\n    source.selected.indices = [];\\n    // Hide back button again\\n    button.visible = false;\\n\"}}]]]},\"visible\":false,\"label\":\"Back to Month Overview\"}},{\"id\":\"p2193\"}]}}}},{\"type\":\"object\",\"name\":\"TabPanel\",\"id\":\"p2309\",\"attributes\":{\"title\":\"Sales Volume (amounts)\",\"child\":{\"type\":\"object\",\"name\":\"Column\",\"id\":\"p2308\",\"attributes\":{\"children\":[{\"type\":\"object\",\"name\":\"Button\",\"id\":\"p2303\",\"attributes\":{\"button_type\":\"success\",\"js_event_callbacks\":{\"type\":\"map\",\"entries\":[[\"button_click\",[{\"type\":\"object\",\"name\":\"CustomJS\",\"id\":\"p2305\",\"attributes\":{\"args\":{\"type\":\"map\",\"entries\":[[\"source\",{\"type\":\"object\",\"name\":\"ColumnDataSource\",\"id\":\"p2267\",\"attributes\":{\"selected\":{\"type\":\"object\",\"name\":\"Selection\",\"id\":\"p2268\",\"attributes\":{\"js_property_callbacks\":{\"type\":\"map\",\"entries\":[[\"change:indices\",[{\"type\":\"object\",\"name\":\"CustomJS\",\"id\":\"p2304\",\"attributes\":{\"args\":{\"type\":\"map\",\"entries\":[[\"source\",{\"id\":\"p2267\"}],[\"p\",{\"type\":\"object\",\"name\":\"Figure\",\"id\":\"p2271\",\"attributes\":{\"height\":400,\"x_range\":{\"type\":\"object\",\"name\":\"FactorRange\",\"id\":\"p2270\",\"attributes\":{\"factors\":[\"Jun\",\"Jul\",\"Aug\",\"Sep\",\"Oct\",\"Nov\",\"Dec\"]}},\"y_range\":{\"type\":\"object\",\"name\":\"DataRange1d\",\"id\":\"p2273\"},\"x_scale\":{\"type\":\"object\",\"name\":\"CategoricalScale\",\"id\":\"p2281\"},\"y_scale\":{\"type\":\"object\",\"name\":\"LinearScale\",\"id\":\"p2282\"},\"title\":{\"type\":\"object\",\"name\":\"Title\",\"id\":\"p2274\",\"attributes\":{\"text\":\"Monthly Sale amounts, click on bar to get daily info\"}},\"renderers\":[{\"type\":\"object\",\"name\":\"GlyphRenderer\",\"id\":\"p2300\",\"attributes\":{\"data_source\":{\"id\":\"p2267\"},\"view\":{\"type\":\"object\",\"name\":\"CDSView\",\"id\":\"p2301\",\"attributes\":{\"filter\":{\"type\":\"object\",\"name\":\"AllIndices\",\"id\":\"p2302\"}}},\"glyph\":{\"type\":\"object\",\"name\":\"VBar\",\"id\":\"p2297\",\"attributes\":{\"x\":{\"type\":\"field\",\"field\":\"x\"},\"width\":{\"type\":\"value\",\"value\":0.5},\"top\":{\"type\":\"field\",\"field\":\"y\"},\"line_color\":{\"type\":\"value\",\"value\":\"#1f77b4\"},\"fill_color\":{\"type\":\"value\",\"value\":\"#1f77b4\"}}},\"nonselection_glyph\":{\"type\":\"object\",\"name\":\"VBar\",\"id\":\"p2298\",\"attributes\":{\"x\":{\"type\":\"field\",\"field\":\"x\"},\"width\":{\"type\":\"value\",\"value\":0.5},\"top\":{\"type\":\"field\",\"field\":\"y\"},\"line_color\":{\"type\":\"value\",\"value\":\"#1f77b4\"},\"line_alpha\":{\"type\":\"value\",\"value\":0.1},\"fill_color\":{\"type\":\"value\",\"value\":\"#1f77b4\"},\"fill_alpha\":{\"type\":\"value\",\"value\":0.1},\"hatch_alpha\":{\"type\":\"value\",\"value\":0.1}}},\"muted_glyph\":{\"type\":\"object\",\"name\":\"VBar\",\"id\":\"p2299\",\"attributes\":{\"x\":{\"type\":\"field\",\"field\":\"x\"},\"width\":{\"type\":\"value\",\"value\":0.5},\"top\":{\"type\":\"field\",\"field\":\"y\"},\"line_color\":{\"type\":\"value\",\"value\":\"#1f77b4\"},\"line_alpha\":{\"type\":\"value\",\"value\":0.2},\"fill_color\":{\"type\":\"value\",\"value\":\"#1f77b4\"},\"fill_alpha\":{\"type\":\"value\",\"value\":0.2},\"hatch_alpha\":{\"type\":\"value\",\"value\":0.2}}}}}],\"toolbar\":{\"type\":\"object\",\"name\":\"Toolbar\",\"id\":\"p2280\",\"attributes\":{\"tools\":[{\"type\":\"object\",\"name\":\"TapTool\",\"id\":\"p2293\",\"attributes\":{\"renderers\":\"auto\"}}]}},\"toolbar_location\":null,\"left\":[{\"type\":\"object\",\"name\":\"LinearAxis\",\"id\":\"p2288\",\"attributes\":{\"ticker\":{\"type\":\"object\",\"name\":\"BasicTicker\",\"id\":\"p2289\",\"attributes\":{\"mantissas\":[1,2,5]}},\"formatter\":{\"type\":\"object\",\"name\":\"BasicTickFormatter\",\"id\":\"p2290\"},\"axis_label\":\"amount of sales\",\"major_label_policy\":{\"type\":\"object\",\"name\":\"AllLabels\",\"id\":\"p2291\"}}}],\"below\":[{\"type\":\"object\",\"name\":\"CategoricalAxis\",\"id\":\"p2283\",\"attributes\":{\"ticker\":{\"type\":\"object\",\"name\":\"CategoricalTicker\",\"id\":\"p2284\"},\"formatter\":{\"type\":\"object\",\"name\":\"CategoricalTickFormatter\",\"id\":\"p2285\"},\"major_label_policy\":{\"type\":\"object\",\"name\":\"AllLabels\",\"id\":\"p2286\"}}}],\"center\":[{\"type\":\"object\",\"name\":\"Grid\",\"id\":\"p2287\",\"attributes\":{\"axis\":{\"id\":\"p2283\"}}},{\"type\":\"object\",\"name\":\"Grid\",\"id\":\"p2292\",\"attributes\":{\"dimension\":1,\"axis\":{\"id\":\"p2288\"}}}]}}],[\"button\",{\"id\":\"p2303\"}],[\"all_days_json\",\"[\\\"1\\\", \\\"2\\\", \\\"3\\\", \\\"4\\\", \\\"5\\\", \\\"6\\\", \\\"7\\\", \\\"8\\\", \\\"9\\\", \\\"10\\\", \\\"11\\\", \\\"12\\\", \\\"13\\\", \\\"14\\\", \\\"15\\\", \\\"16\\\", \\\"17\\\", \\\"18\\\", \\\"19\\\", \\\"20\\\", \\\"21\\\", \\\"22\\\", \\\"23\\\", \\\"24\\\", \\\"25\\\", \\\"26\\\", \\\"27\\\", \\\"28\\\", \\\"29\\\", \\\"30\\\", \\\"1\\\", \\\"2\\\", \\\"3\\\", \\\"4\\\", \\\"5\\\", \\\"6\\\", \\\"7\\\", \\\"8\\\", \\\"9\\\", \\\"10\\\", \\\"11\\\", \\\"12\\\", \\\"13\\\", \\\"14\\\", \\\"15\\\", \\\"16\\\", \\\"17\\\", \\\"18\\\", \\\"19\\\", \\\"20\\\", \\\"21\\\", \\\"22\\\", \\\"23\\\", \\\"24\\\", \\\"25\\\", \\\"26\\\", \\\"27\\\", \\\"28\\\", \\\"29\\\", \\\"30\\\", \\\"31\\\", \\\"1\\\", \\\"2\\\", \\\"3\\\", \\\"4\\\", \\\"5\\\", \\\"6\\\", \\\"7\\\", \\\"8\\\", \\\"9\\\", \\\"10\\\", \\\"11\\\", \\\"12\\\", \\\"13\\\", \\\"14\\\", \\\"15\\\", \\\"16\\\", \\\"17\\\", \\\"18\\\", \\\"19\\\", \\\"20\\\", \\\"21\\\", \\\"22\\\", \\\"23\\\", \\\"24\\\", \\\"25\\\", \\\"26\\\", \\\"27\\\", \\\"28\\\", \\\"29\\\", \\\"30\\\", \\\"31\\\", \\\"1\\\", \\\"2\\\", \\\"3\\\", \\\"4\\\", \\\"5\\\", \\\"6\\\", \\\"7\\\", \\\"8\\\", \\\"9\\\", \\\"10\\\", \\\"11\\\", \\\"12\\\", \\\"13\\\", \\\"14\\\", \\\"15\\\", \\\"16\\\", \\\"17\\\", \\\"18\\\", \\\"19\\\", \\\"20\\\", \\\"21\\\", \\\"22\\\", \\\"23\\\", \\\"24\\\", \\\"25\\\", \\\"26\\\", \\\"27\\\", \\\"28\\\", \\\"29\\\", \\\"30\\\", \\\"1\\\", \\\"2\\\", \\\"3\\\", \\\"4\\\", \\\"5\\\", \\\"6\\\", \\\"7\\\", \\\"8\\\", \\\"9\\\", \\\"10\\\", \\\"11\\\", \\\"12\\\", \\\"13\\\", \\\"14\\\", \\\"15\\\", \\\"16\\\", \\\"17\\\", \\\"18\\\", \\\"19\\\", \\\"20\\\", \\\"21\\\", \\\"22\\\", \\\"23\\\", \\\"24\\\", \\\"25\\\", \\\"26\\\", \\\"27\\\", \\\"28\\\", \\\"29\\\", \\\"30\\\", \\\"31\\\", \\\"1\\\", \\\"2\\\", \\\"3\\\", \\\"4\\\", \\\"5\\\", \\\"6\\\", \\\"7\\\", \\\"8\\\", \\\"9\\\", \\\"10\\\", \\\"11\\\", \\\"12\\\", \\\"13\\\", \\\"14\\\", \\\"15\\\", \\\"16\\\", \\\"17\\\", \\\"18\\\", \\\"19\\\", \\\"20\\\", \\\"21\\\", \\\"22\\\", \\\"23\\\", \\\"24\\\", \\\"25\\\", \\\"26\\\", \\\"27\\\", \\\"28\\\", \\\"29\\\", \\\"30\\\", \\\"1\\\", \\\"2\\\", \\\"3\\\", \\\"4\\\", \\\"5\\\", \\\"6\\\", \\\"7\\\", \\\"8\\\", \\\"9\\\", \\\"10\\\", \\\"11\\\", \\\"12\\\", \\\"13\\\", \\\"14\\\", \\\"15\\\", \\\"16\\\", \\\"17\\\", \\\"18\\\", \\\"19\\\", \\\"20\\\", \\\"21\\\", \\\"22\\\", \\\"23\\\", \\\"24\\\", \\\"25\\\", \\\"26\\\", \\\"27\\\", \\\"28\\\", \\\"29\\\", \\\"30\\\", \\\"31\\\"]\"],[\"all_values_json\",\"[2, 10, 6, 7, 2, 13, 13, 3, 4, 1, 9, 8, 11, 6, 8, 8, 6, 6, 9, 9, 6, 12, 9, 14, 7, 6, 7, 13, 3, 12, 12, 9, 11, 10, 8, 5, 7, 8, 4, 19, 18, 7, 12, 6, 14, 6, 11, 13, 8, 4, 8, 6, 9, 12, 7, 3, 10, 7, 8, 14, 11, 9, 10, 7, 8, 3, 8, 9, 15, 1, 15, 2, 5, 6, 16, 16, 17, 4, 3, 6, 9, 4, 14, 5, 8, 8, 6, 15, 10, 10, 9, 6, 9, 11, 9, 7, 14, 5, 6, 7, 10, 3, 9, 7, 1, 4, 2, 10, 10, 11, 10, 2, 3, 5, 9, 15, 16, 8, 6, 5, 7, 13, 4, 4, 9, 1, 1, 4, 9, 5, 9, 8, 13, 11, 7, 7, 7, 21, 8, 10, 7, 4, 3, 4, 8, 9, 13, 7, 5, 8, 4, 6, 5, 4, 6, 6, 2, 8, 14, 8, 3, 9, 11, 3, 7, 10, 15, 9, 12, 3, 10, 9, 10, 11, 6, 7, 6, 7, 5, 7, 11, 11, 4, 6, 4, 3, 12, 11, 7, 4, 4, 5, 5, 6, 22, 9, 9, 6, 7, 13, 12, 8, 7, 1, 7, 5, 7, 5, 7, 11, 6, 7, 5, 8]\"],[\"month_indices_json\",\"{\\\"Jun\\\": [0, 30], \\\"Jul\\\": [30, 61], \\\"Aug\\\": [61, 92], \\\"Sep\\\": [92, 122], \\\"Oct\\\": [122, 153], \\\"Nov\\\": [153, 183], \\\"Dec\\\": [183, 214]}\"],[\"global_max_y\",24.200000000000003]]},\"code\":\"\\n    var selected = source.selected.indices[0]; \\n    if (selected === undefined) return;\\n\\n    // Parse JSON data into arrays\\n    var all_days = JSON.parse(all_days_json);\\n    var all_values = JSON.parse(all_values_json);\\n    var month_indices = JSON.parse(month_indices_json);\\n\\n    var month = source.data['x'][selected];\\n\\n    if (!(month in month_indices)) return;\\n\\n    var start_idx = month_indices[month][0];\\n    var end_idx = month_indices[month][1];\\n\\n    var days = all_days.slice(start_idx, end_idx);\\n    var values = all_values.slice(start_idx, end_idx);\\n\\n    source.data['x'] = days;\\n    source.data['y'] = values;\\n    source.change.emit();\\n\\n    // Set consistent y-axis range\\n    p.y_range.start = 0;\\n    p.y_range.end = global_max_y;  \\n    p.change.emit();\\n    \\n    // Update x-axis dynamically\\n    p.x_range.factors = days;\\n    p.title.text = \\\"Daily Sale amounts of \\\" + month;\\n\\n    source.selected.indices = [];\\n    button.visible = true;\\n\"}}]]]},\"indices\":[],\"line_indices\":[]}},\"selection_policy\":{\"type\":\"object\",\"name\":\"UnionRenderers\",\"id\":\"p2269\"},\"data\":{\"type\":\"map\",\"entries\":[[\"x\",[\"Jun\",\"Jul\",\"Aug\",\"Sep\",\"Oct\",\"Nov\",\"Dec\"]],[\"y\",[230,287,264,234,221,234,229]]]}}}],[\"p\",{\"id\":\"p2271\"}],[\"button\",{\"id\":\"p2303\"}],[\"months\",[\"Jun\",\"Jul\",\"Aug\",\"Sep\",\"Oct\",\"Nov\",\"Dec\"]],[\"monthly_sums\",[230,287,264,234,221,234,229]]]},\"code\":\"\\n    // Restore the original monthly data\\n    source.data['x'] = months;  // Use the months list directly\\n    source.data['y'] = monthly_sums;  // Use the original monthly sums\\n    source.change.emit();\\n    // Reset x-axis to show months\\n    p.x_range.factors = months;\\n    // Reset title\\n    p.title.text = \\\"Monthly Sale amounts, click on bar to get daily info\\\";\\n    // Deselect any selected bars\\n    source.selected.indices = [];\\n    // Hide back button again\\n    button.visible = false;\\n\"}}]]]},\"visible\":false,\"label\":\"Back to Month Overview\"}},{\"id\":\"p2271\"}]}}}}]}}]}};\n  const render_items = [{\"docid\":\"6ca82cf9-cae4-4584-bdc8-e1bcb58ca205\",\"roots\":{\"p2310\":\"e52c13cb-a195-4e21-9d94-ffe17ae49a4b\"},\"root_ids\":[\"p2310\"]}];\n  void root.Bokeh.embed.embed_items_notebook(docs_json, render_items);\n  }\n  if (root.Bokeh !== undefined) {\n    embed_document(root);\n  } else {\n    let attempts = 0;\n    const timer = setInterval(function(root) {\n      if (root.Bokeh !== undefined) {\n        clearInterval(timer);\n        embed_document(root);\n      } else {\n        attempts++;\n        if (attempts > 100) {\n          clearInterval(timer);\n          console.log(\"Bokeh: ERROR: Unable to run BokehJS code because BokehJS library is missing\");\n        }\n      }\n    }, 10, root)\n  }\n})(window);",
      "application/vnd.bokehjs_exec.v0+json": ""
     },
     "metadata": {
      "application/vnd.bokehjs_exec.v0+json": {
       "id": "p2310"
      }
     },
     "output_type": "display_data"
    }
   ],
   "source": [
    "# Assume fig1 and fig2 are created following your original logic\n",
    "panel1 = TabPanel(child=column(button1, fig1),title=\"Sales Volume (euros)\")\n",
    "panel2 = TabPanel(child=column(button2, fig2),title=\"Sales Volume (amounts)\")\n",
    "\n",
    "tabs = Tabs(tabs=[panel1, panel2])\n",
    "\n",
    "show(tabs)"
   ]
  },
  {
   "cell_type": "markdown",
   "metadata": {},
   "source": [
    "## Part 2: Attribute Segmenting\n",
    "Now we get to the second part. We show two different plots. One is of cumulative sales data in a graph of premium and unlock\n",
    "The other is two bar graphs that display sales volumes per weekday, to see that weekends generate more sales (and a lot more unlock sales)."
   ]
  },
  {
   "cell_type": "markdown",
   "metadata": {},
   "source": [
    "### plot 1: sales data of two sku id's"
   ]
  },
  {
   "cell_type": "code",
   "execution_count": 44,
   "metadata": {},
   "outputs": [],
   "source": [
    "#we will do the month loop again to keep things clear (a bit inefficient but it doesn't take long)\n",
    "monthly_sums = []\n",
    "#the initial plot can use dictionary input: we will process that here\n",
    "daily_values_premium = {}\n",
    "daily_values_unlock = {}\n",
    "for month in months:\n",
    "    #get all the dates of this month \n",
    "    month_values = df.loc[df['transaction date'].dt.month == month_map[month]]\n",
    "    #get values for premium and unlock separately\n",
    "    prem_values = month_values.loc[month_values['sku id'] == \"premium\"]\n",
    "    unlock_values = month_values.loc[month_values['sku id'] == \"unlockcharactermanager\"]\n",
    "    #now we iterate over the days and append the length of a series of only that day\n",
    "    prem_day_value_list = []\n",
    "    unlock_day_value_list = []\n",
    "    for i in daily_data[month]:\n",
    "        prem_day_value_list.append(len(prem_values.loc[prem_values['transaction date'].dt.day==int(i)]))\n",
    "        unlock_day_value_list.append(len(unlock_values.loc[unlock_values['transaction date'].dt.day==int(i)]))\n",
    "    #now we need the daily values as a list to append to the daily values dictionary\n",
    "    daily_values_premium[month] = prem_day_value_list\n",
    "    daily_values_unlock[month] = unlock_day_value_list\n",
    "\n",
    "#now we have a dictionary with all the daily values. Now we need to combine this with an x-axis that's\n",
    "#all the dates between the start and end of our data set\n",
    "flat_daily_values_premium = [value for month in months for value in daily_values_premium[month]] #will be our y-axis\n",
    "flat_daily_values_unlock = [value for month in months for value in daily_values_unlock[month]] #will be our y-axis\n",
    "dates_list = [df['transaction date'][0] + timedelta(days=i) for i in range(len(flat_daily_values_premium))]#we can choose 1 of the 2"
   ]
  },
  {
   "cell_type": "markdown",
   "metadata": {},
   "source": [
    "### Bokeh plot (still have to clean this up/make this better with interaction)"
   ]
  },
  {
   "cell_type": "code",
   "execution_count": 45,
   "metadata": {},
   "outputs": [
    {
     "data": {
      "text/html": [
       "    <style>\n",
       "        .bk-notebook-logo {\n",
       "            display: block;\n",
       "            width: 20px;\n",
       "            height: 20px;\n",
       "            background-image: url(data:image/png;base64,iVBORw0KGgoAAAANSUhEUgAAABQAAAAUCAYAAACNiR0NAAAABHNCSVQICAgIfAhkiAAAAAlwSFlzAAALEgAACxIB0t1+/AAAABx0RVh0U29mdHdhcmUAQWRvYmUgRmlyZXdvcmtzIENTNui8sowAAAOkSURBVDiNjZRtaJVlGMd/1/08zzln5zjP1LWcU9N0NkN8m2CYjpgQYQXqSs0I84OLIC0hkEKoPtiH3gmKoiJDU7QpLgoLjLIQCpEsNJ1vqUOdO7ppbuec5+V+rj4ctwzd8IIbbi6u+8f1539dt3A78eXC7QizUF7gyV1fD1Yqg4JWz84yffhm0qkFqBogB9rM8tZdtwVsPUhWhGcFJngGeWrPzHm5oaMmkfEg1usvLFyc8jLRqDOMru7AyC8saQr7GG7f5fvDeH7Ej8CM66nIF+8yngt6HWaKh7k49Soy9nXurCi1o3qUbS3zWfrYeQDTB/Qj6kX6Ybhw4B+bOYoLKCC9H3Nu/leUTZ1JdRWkkn2ldcCamzrcf47KKXdAJllSlxAOkRgyHsGC/zRday5Qld9DyoM4/q/rUoy/CXh3jzOu3bHUVZeU+DEn8FInkPBFlu3+nW3Nw0mk6vCDiWg8CeJaxEwuHS3+z5RgY+YBR6V1Z1nxSOfoaPa4LASWxxdNp+VWTk7+4vzaou8v8PN+xo+KY2xsw6une2frhw05CTYOmQvsEhjhWjn0bmXPjpE1+kplmmkP3suftwTubK9Vq22qKmrBhpY4jvd5afdRA3wGjFAgcnTK2s4hY0/GPNIb0nErGMCRxWOOX64Z8RAC4oCXdklmEvcL8o0BfkNK4lUg9HTl+oPlQxdNo3Mg4Nv175e/1LDGzZen30MEjRUtmXSfiTVu1kK8W4txyV6BMKlbgk3lMwYCiusNy9fVfvvwMxv8Ynl6vxoByANLTWplvuj/nF9m2+PDtt1eiHPBr1oIfhCChQMBw6Aw0UulqTKZdfVvfG7VcfIqLG9bcldL/+pdWTLxLUy8Qq38heUIjh4XlzZxzQm19lLFlr8vdQ97rjZVOLf8nclzckbcD4wxXMidpX30sFd37Fv/GtwwhzhxGVAprjbg0gCAEeIgwCZyTV2Z1REEW8O4py0wsjeloKoMr6iCY6dP92H6Vw/oTyICIthibxjm/DfN9lVz8IqtqKYLUXfoKVMVQVVJOElGjrnnUt9T9wbgp8AyYKaGlqingHZU/uG2NTZSVqwHQTWkx9hxjkpWDaCg6Ckj5qebgBVbT3V3NNXMSiWSDdGV3hrtzla7J+duwPOToIg42ChPQOQjspnSlp1V+Gjdged7+8UN5CRAV7a5EdFNwCjEaBR27b3W890TE7g24NAP/mMDXRWrGoFPQI9ls/MWO2dWFAar/xcOIImbbpA3zgAAAABJRU5ErkJggg==);\n",
       "        }\n",
       "    </style>\n",
       "    <div>\n",
       "        <a href=\"https://bokeh.org\" target=\"_blank\" class=\"bk-notebook-logo\"></a>\n",
       "        <span id=\"f3751908-5aa5-4ab5-94bf-235dbf37ff83\">Loading BokehJS ...</span>\n",
       "    </div>\n"
      ]
     },
     "metadata": {},
     "output_type": "display_data"
    },
    {
     "data": {
      "application/javascript": "'use strict';\n(function(root) {\n  function now() {\n    return new Date();\n  }\n\n  const force = true;\n\n  if (typeof root._bokeh_onload_callbacks === \"undefined\" || force === true) {\n    root._bokeh_onload_callbacks = [];\n    root._bokeh_is_loading = undefined;\n  }\n\nconst JS_MIME_TYPE = 'application/javascript';\n  const HTML_MIME_TYPE = 'text/html';\n  const EXEC_MIME_TYPE = 'application/vnd.bokehjs_exec.v0+json';\n  const CLASS_NAME = 'output_bokeh rendered_html';\n\n  /**\n   * Render data to the DOM node\n   */\n  function render(props, node) {\n    const script = document.createElement(\"script\");\n    node.appendChild(script);\n  }\n\n  /**\n   * Handle when an output is cleared or removed\n   */\n  function handleClearOutput(event, handle) {\n    function drop(id) {\n      const view = Bokeh.index.get_by_id(id)\n      if (view != null) {\n        view.model.document.clear()\n        Bokeh.index.delete(view)\n      }\n    }\n\n    const cell = handle.cell;\n\n    const id = cell.output_area._bokeh_element_id;\n    const server_id = cell.output_area._bokeh_server_id;\n\n    // Clean up Bokeh references\n    if (id != null) {\n      drop(id)\n    }\n\n    if (server_id !== undefined) {\n      // Clean up Bokeh references\n      const cmd_clean = \"from bokeh.io.state import curstate; print(curstate().uuid_to_server['\" + server_id + \"'].get_sessions()[0].document.roots[0]._id)\";\n      cell.notebook.kernel.execute(cmd_clean, {\n        iopub: {\n          output: function(msg) {\n            const id = msg.content.text.trim()\n            drop(id)\n          }\n        }\n      });\n      // Destroy server and session\n      const cmd_destroy = \"import bokeh.io.notebook as ion; ion.destroy_server('\" + server_id + \"')\";\n      cell.notebook.kernel.execute(cmd_destroy);\n    }\n  }\n\n  /**\n   * Handle when a new output is added\n   */\n  function handleAddOutput(event, handle) {\n    const output_area = handle.output_area;\n    const output = handle.output;\n\n    // limit handleAddOutput to display_data with EXEC_MIME_TYPE content only\n    if ((output.output_type != \"display_data\") || (!Object.prototype.hasOwnProperty.call(output.data, EXEC_MIME_TYPE))) {\n      return\n    }\n\n    const toinsert = output_area.element.find(\".\" + CLASS_NAME.split(' ')[0]);\n\n    if (output.metadata[EXEC_MIME_TYPE][\"id\"] !== undefined) {\n      toinsert[toinsert.length - 1].firstChild.textContent = output.data[JS_MIME_TYPE];\n      // store reference to embed id on output_area\n      output_area._bokeh_element_id = output.metadata[EXEC_MIME_TYPE][\"id\"];\n    }\n    if (output.metadata[EXEC_MIME_TYPE][\"server_id\"] !== undefined) {\n      const bk_div = document.createElement(\"div\");\n      bk_div.innerHTML = output.data[HTML_MIME_TYPE];\n      const script_attrs = bk_div.children[0].attributes;\n      for (let i = 0; i < script_attrs.length; i++) {\n        toinsert[toinsert.length - 1].firstChild.setAttribute(script_attrs[i].name, script_attrs[i].value);\n        toinsert[toinsert.length - 1].firstChild.textContent = bk_div.children[0].textContent\n      }\n      // store reference to server id on output_area\n      output_area._bokeh_server_id = output.metadata[EXEC_MIME_TYPE][\"server_id\"];\n    }\n  }\n\n  function register_renderer(events, OutputArea) {\n\n    function append_mime(data, metadata, element) {\n      // create a DOM node to render to\n      const toinsert = this.create_output_subarea(\n        metadata,\n        CLASS_NAME,\n        EXEC_MIME_TYPE\n      );\n      this.keyboard_manager.register_events(toinsert);\n      // Render to node\n      const props = {data: data, metadata: metadata[EXEC_MIME_TYPE]};\n      render(props, toinsert[toinsert.length - 1]);\n      element.append(toinsert);\n      return toinsert\n    }\n\n    /* Handle when an output is cleared or removed */\n    events.on('clear_output.CodeCell', handleClearOutput);\n    events.on('delete.Cell', handleClearOutput);\n\n    /* Handle when a new output is added */\n    events.on('output_added.OutputArea', handleAddOutput);\n\n    /**\n     * Register the mime type and append_mime function with output_area\n     */\n    OutputArea.prototype.register_mime_type(EXEC_MIME_TYPE, append_mime, {\n      /* Is output safe? */\n      safe: true,\n      /* Index of renderer in `output_area.display_order` */\n      index: 0\n    });\n  }\n\n  // register the mime type if in Jupyter Notebook environment and previously unregistered\n  if (root.Jupyter !== undefined) {\n    const events = require('base/js/events');\n    const OutputArea = require('notebook/js/outputarea').OutputArea;\n\n    if (OutputArea.prototype.mime_types().indexOf(EXEC_MIME_TYPE) == -1) {\n      register_renderer(events, OutputArea);\n    }\n  }\n  if (typeof (root._bokeh_timeout) === \"undefined\" || force === true) {\n    root._bokeh_timeout = Date.now() + 5000;\n    root._bokeh_failed_load = false;\n  }\n\n  const NB_LOAD_WARNING = {'data': {'text/html':\n     \"<div style='background-color: #fdd'>\\n\"+\n     \"<p>\\n\"+\n     \"BokehJS does not appear to have successfully loaded. If loading BokehJS from CDN, this \\n\"+\n     \"may be due to a slow or bad network connection. Possible fixes:\\n\"+\n     \"</p>\\n\"+\n     \"<ul>\\n\"+\n     \"<li>re-rerun `output_notebook()` to attempt to load from CDN again, or</li>\\n\"+\n     \"<li>use INLINE resources instead, as so:</li>\\n\"+\n     \"</ul>\\n\"+\n     \"<code>\\n\"+\n     \"from bokeh.resources import INLINE\\n\"+\n     \"output_notebook(resources=INLINE)\\n\"+\n     \"</code>\\n\"+\n     \"</div>\"}};\n\n  function display_loaded(error = null) {\n    const el = document.getElementById(\"f3751908-5aa5-4ab5-94bf-235dbf37ff83\");\n    if (el != null) {\n      const html = (() => {\n        if (typeof root.Bokeh === \"undefined\") {\n          if (error == null) {\n            return \"BokehJS is loading ...\";\n          } else {\n            return \"BokehJS failed to load.\";\n          }\n        } else {\n          const prefix = `BokehJS ${root.Bokeh.version}`;\n          if (error == null) {\n            return `${prefix} successfully loaded.`;\n          } else {\n            return `${prefix} <b>encountered errors</b> while loading and may not function as expected.`;\n          }\n        }\n      })();\n      el.innerHTML = html;\n\n      if (error != null) {\n        const wrapper = document.createElement(\"div\");\n        wrapper.style.overflow = \"auto\";\n        wrapper.style.height = \"5em\";\n        wrapper.style.resize = \"vertical\";\n        const content = document.createElement(\"div\");\n        content.style.fontFamily = \"monospace\";\n        content.style.whiteSpace = \"pre-wrap\";\n        content.style.backgroundColor = \"rgb(255, 221, 221)\";\n        content.textContent = error.stack ?? error.toString();\n        wrapper.append(content);\n        el.append(wrapper);\n      }\n    } else if (Date.now() < root._bokeh_timeout) {\n      setTimeout(() => display_loaded(error), 100);\n    }\n  }\n\n  function run_callbacks() {\n    try {\n      root._bokeh_onload_callbacks.forEach(function(callback) {\n        if (callback != null)\n          callback();\n      });\n    } finally {\n      delete root._bokeh_onload_callbacks\n    }\n    console.debug(\"Bokeh: all callbacks have finished\");\n  }\n\n  function load_libs(css_urls, js_urls, callback) {\n    if (css_urls == null) css_urls = [];\n    if (js_urls == null) js_urls = [];\n\n    root._bokeh_onload_callbacks.push(callback);\n    if (root._bokeh_is_loading > 0) {\n      console.debug(\"Bokeh: BokehJS is being loaded, scheduling callback at\", now());\n      return null;\n    }\n    if (js_urls == null || js_urls.length === 0) {\n      run_callbacks();\n      return null;\n    }\n    console.debug(\"Bokeh: BokehJS not loaded, scheduling load and callback at\", now());\n    root._bokeh_is_loading = css_urls.length + js_urls.length;\n\n    function on_load() {\n      root._bokeh_is_loading--;\n      if (root._bokeh_is_loading === 0) {\n        console.debug(\"Bokeh: all BokehJS libraries/stylesheets loaded\");\n        run_callbacks()\n      }\n    }\n\n    function on_error(url) {\n      console.error(\"failed to load \" + url);\n    }\n\n    for (let i = 0; i < css_urls.length; i++) {\n      const url = css_urls[i];\n      const element = document.createElement(\"link\");\n      element.onload = on_load;\n      element.onerror = on_error.bind(null, url);\n      element.rel = \"stylesheet\";\n      element.type = \"text/css\";\n      element.href = url;\n      console.debug(\"Bokeh: injecting link tag for BokehJS stylesheet: \", url);\n      document.body.appendChild(element);\n    }\n\n    for (let i = 0; i < js_urls.length; i++) {\n      const url = js_urls[i];\n      const element = document.createElement('script');\n      element.onload = on_load;\n      element.onerror = on_error.bind(null, url);\n      element.async = false;\n      element.src = url;\n      console.debug(\"Bokeh: injecting script tag for BokehJS library: \", url);\n      document.head.appendChild(element);\n    }\n  };\n\n  function inject_raw_css(css) {\n    const element = document.createElement(\"style\");\n    element.appendChild(document.createTextNode(css));\n    document.body.appendChild(element);\n  }\n\n  const js_urls = [\"https://cdn.bokeh.org/bokeh/release/bokeh-3.6.2.min.js\", \"https://cdn.bokeh.org/bokeh/release/bokeh-gl-3.6.2.min.js\", \"https://cdn.bokeh.org/bokeh/release/bokeh-widgets-3.6.2.min.js\", \"https://cdn.bokeh.org/bokeh/release/bokeh-tables-3.6.2.min.js\", \"https://cdn.bokeh.org/bokeh/release/bokeh-mathjax-3.6.2.min.js\"];\n  const css_urls = [];\n\n  const inline_js = [    function(Bokeh) {\n      Bokeh.set_log_level(\"info\");\n    },\nfunction(Bokeh) {\n    }\n  ];\n\n  function run_inline_js() {\n    if (root.Bokeh !== undefined || force === true) {\n      try {\n            for (let i = 0; i < inline_js.length; i++) {\n      inline_js[i].call(root, root.Bokeh);\n    }\n\n      } catch (error) {display_loaded(error);throw error;\n      }if (force === true) {\n        display_loaded();\n      }} else if (Date.now() < root._bokeh_timeout) {\n      setTimeout(run_inline_js, 100);\n    } else if (!root._bokeh_failed_load) {\n      console.log(\"Bokeh: BokehJS failed to load within specified timeout.\");\n      root._bokeh_failed_load = true;\n    } else if (force !== true) {\n      const cell = $(document.getElementById(\"f3751908-5aa5-4ab5-94bf-235dbf37ff83\")).parents('.cell').data().cell;\n      cell.output_area.append_execute_result(NB_LOAD_WARNING)\n    }\n  }\n\n  if (root._bokeh_is_loading === 0) {\n    console.debug(\"Bokeh: BokehJS loaded, going straight to plotting\");\n    run_inline_js();\n  } else {\n    load_libs(css_urls, js_urls, function() {\n      console.debug(\"Bokeh: BokehJS plotting callback run at\", now());\n      run_inline_js();\n    });\n  }\n}(window));",
      "application/vnd.bokehjs_load.v0+json": ""
     },
     "metadata": {},
     "output_type": "display_data"
    },
    {
     "data": {
      "text/html": [
       "\n",
       "  <div id=\"cd016e36-b705-47a6-9a79-91e0f7d8c9da\" data-root-id=\"p1392\" style=\"display: contents;\"></div>\n"
      ]
     },
     "metadata": {},
     "output_type": "display_data"
    },
    {
     "data": {
      "application/javascript": "(function(root) {\n  function embed_document(root) {\n  const docs_json = {\"b60b5625-b1d9-4045-9d9d-9ed38dc1d530\":{\"version\":\"3.6.2\",\"title\":\"Bokeh Application\",\"roots\":[{\"type\":\"object\",\"name\":\"Figure\",\"id\":\"p1392\",\"attributes\":{\"width\":700,\"height\":400,\"x_range\":{\"type\":\"object\",\"name\":\"DataRange1d\",\"id\":\"p1393\"},\"y_range\":{\"type\":\"object\",\"name\":\"DataRange1d\",\"id\":\"p1394\"},\"x_scale\":{\"type\":\"object\",\"name\":\"LinearScale\",\"id\":\"p1402\"},\"y_scale\":{\"type\":\"object\",\"name\":\"LinearScale\",\"id\":\"p1403\"},\"title\":{\"type\":\"object\",\"name\":\"Title\",\"id\":\"p1395\",\"attributes\":{\"text\":\"TITLE\"}},\"renderers\":[{\"type\":\"object\",\"name\":\"GlyphRenderer\",\"id\":\"p1433\",\"attributes\":{\"data_source\":{\"type\":\"object\",\"name\":\"ColumnDataSource\",\"id\":\"p1427\",\"attributes\":{\"selected\":{\"type\":\"object\",\"name\":\"Selection\",\"id\":\"p1428\",\"attributes\":{\"indices\":[],\"line_indices\":[]}},\"selection_policy\":{\"type\":\"object\",\"name\":\"UnionRenderers\",\"id\":\"p1429\"},\"data\":{\"type\":\"map\",\"entries\":[[\"x\",[1622505600000.0,1622592000000.0,1622678400000.0,1622764800000.0,1622851200000.0,1622937600000.0,1623024000000.0,1623110400000.0,1623196800000.0,1623283200000.0,1623369600000.0,1623456000000.0,1623542400000.0,1623628800000.0,1623715200000.0,1623801600000.0,1623888000000.0,1623974400000.0,1624060800000.0,1624147200000.0,1624233600000.0,1624320000000.0,1624406400000.0,1624492800000.0,1624579200000.0,1624665600000.0,1624752000000.0,1624838400000.0,1624924800000.0,1625011200000.0,1625097600000.0,1625184000000.0,1625270400000.0,1625356800000.0,1625443200000.0,1625529600000.0,1625616000000.0,1625702400000.0,1625788800000.0,1625875200000.0,1625961600000.0,1626048000000.0,1626134400000.0,1626220800000.0,1626307200000.0,1626393600000.0,1626480000000.0,1626566400000.0,1626652800000.0,1626739200000.0,1626825600000.0,1626912000000.0,1626998400000.0,1627084800000.0,1627171200000.0,1627257600000.0,1627344000000.0,1627430400000.0,1627516800000.0,1627603200000.0,1627689600000.0,1627776000000.0,1627862400000.0,1627948800000.0,1628035200000.0,1628121600000.0,1628208000000.0,1628294400000.0,1628380800000.0,1628467200000.0,1628553600000.0,1628640000000.0,1628726400000.0,1628812800000.0,1628899200000.0,1628985600000.0,1629072000000.0,1629158400000.0,1629244800000.0,1629331200000.0,1629417600000.0,1629504000000.0,1629590400000.0,1629676800000.0,1629763200000.0,1629849600000.0,1629936000000.0,1630022400000.0,1630108800000.0,1630195200000.0,1630281600000.0,1630368000000.0,1630454400000.0,1630540800000.0,1630627200000.0,1630713600000.0,1630800000000.0,1630886400000.0,1630972800000.0,1631059200000.0,1631145600000.0,1631232000000.0,1631318400000.0,1631404800000.0,1631491200000.0,1631577600000.0,1631664000000.0,1631750400000.0,1631836800000.0,1631923200000.0,1632009600000.0,1632096000000.0,1632182400000.0,1632268800000.0,1632355200000.0,1632441600000.0,1632528000000.0,1632614400000.0,1632700800000.0,1632787200000.0,1632873600000.0,1632960000000.0,1633046400000.0,1633132800000.0,1633219200000.0,1633305600000.0,1633392000000.0,1633478400000.0,1633564800000.0,1633651200000.0,1633737600000.0,1633824000000.0,1633910400000.0,1633996800000.0,1634083200000.0,1634169600000.0,1634256000000.0,1634342400000.0,1634428800000.0,1634515200000.0,1634601600000.0,1634688000000.0,1634774400000.0,1634860800000.0,1634947200000.0,1635033600000.0,1635120000000.0,1635206400000.0,1635292800000.0,1635379200000.0,1635465600000.0,1635552000000.0,1635638400000.0,1635724800000.0,1635811200000.0,1635897600000.0,1635984000000.0,1636070400000.0,1636156800000.0,1636243200000.0,1636329600000.0,1636416000000.0,1636502400000.0,1636588800000.0,1636675200000.0,1636761600000.0,1636848000000.0,1636934400000.0,1637020800000.0,1637107200000.0,1637193600000.0,1637280000000.0,1637366400000.0,1637452800000.0,1637539200000.0,1637625600000.0,1637712000000.0,1637798400000.0,1637884800000.0,1637971200000.0,1638057600000.0,1638144000000.0,1638230400000.0,1638316800000.0,1638403200000.0,1638489600000.0,1638576000000.0,1638662400000.0,1638748800000.0,1638835200000.0,1638921600000.0,1639008000000.0,1639094400000.0,1639180800000.0,1639267200000.0,1639353600000.0,1639440000000.0,1639526400000.0,1639612800000.0,1639699200000.0,1639785600000.0,1639872000000.0,1639958400000.0,1640044800000.0,1640131200000.0,1640217600000.0,1640304000000.0,1640390400000.0,1640476800000.0,1640563200000.0,1640649600000.0,1640736000000.0,1640822400000.0,1640908800000.0]],[\"y\",{\"type\":\"ndarray\",\"array\":{\"type\":\"bytes\",\"data\":\"AQAAAAYAAAAJAAAADQAAAA0AAAATAAAAFgAAABcAAAAZAAAAGgAAAB0AAAAhAAAAJQAAACoAAAAwAAAANAAAADcAAAA6AAAAPQAAAEAAAABEAAAASQAAAEwAAABSAAAAVAAAAFcAAABaAAAAXwAAAGAAAABjAAAAagAAAG4AAABzAAAAeAAAAHoAAAB8AAAAfwAAAIIAAACEAAAAiQAAAI8AAACSAAAAlwAAAJoAAACfAAAAogAAAKoAAACvAAAAsQAAALQAAAC5AAAAvAAAAL8AAADDAAAAxgAAAMYAAADLAAAAzgAAANEAAADXAAAA3AAAAOAAAADmAAAA6QAAAOsAAADtAAAA8AAAAPYAAAD8AAAA/QAAAAMBAAAEAQAACAEAAAoBAAAQAQAAFQEAAB4BAAAgAQAAIgEAACUBAAAqAQAALQEAADMBAAA2AQAAOQEAAD4BAABCAQAASgEAAE8BAABRAQAAVAEAAFYBAABcAQAAYQEAAGUBAABoAQAAbQEAAHABAABxAQAAdAEAAHkBAAB7AQAAfwEAAIEBAACBAQAAgQEAAIIBAACHAQAAiQEAAJABAACSAQAAkwEAAJQBAACWAQAAmQEAAKABAAClAQAApwEAAKgBAACrAQAArAEAALIBAAC0AQAAtgEAALoBAAC7AQAAvAEAAL4BAADCAQAAxQEAAMgBAADMAQAA0wEAANcBAADZAQAA3QEAAN0BAADmAQAA6AEAAO0BAADwAQAA8QEAAPEBAADzAQAA9gEAAPgBAAD+AQAAAAIAAAICAAAFAgAABgIAAAgCAAAJAgAACgIAAAwCAAAOAgAADgIAABICAAAZAgAAGgIAABsCAAAeAgAAIwIAACMCAAAmAgAAKgIAAC8CAAA0AgAAOwIAAD0CAABBAgAARQIAAEkCAABLAgAATgIAAFICAABVAgAAVwIAAFkCAABbAgAAYQIAAGUCAABlAgAAZwIAAGkCAABqAgAAbwIAAHUCAAB6AgAAfAIAAH0CAACCAgAAhAIAAIUCAACOAgAAkQIAAJMCAACXAgAAmQIAAKACAACjAgAApAIAAKYCAACmAgAAqAIAAKsCAACvAgAAsQIAALQCAAC5AgAAvAIAAL4CAADAAgAAxQIAAA==\"},\"shape\":[214],\"dtype\":\"int32\",\"order\":\"little\"}]]}}},\"view\":{\"type\":\"object\",\"name\":\"CDSView\",\"id\":\"p1434\",\"attributes\":{\"filter\":{\"type\":\"object\",\"name\":\"AllIndices\",\"id\":\"p1435\"}}},\"glyph\":{\"type\":\"object\",\"name\":\"Line\",\"id\":\"p1430\",\"attributes\":{\"x\":{\"type\":\"field\",\"field\":\"x\"},\"y\":{\"type\":\"field\",\"field\":\"y\"},\"line_color\":\"gray\",\"line_width\":2}},\"nonselection_glyph\":{\"type\":\"object\",\"name\":\"Line\",\"id\":\"p1431\",\"attributes\":{\"x\":{\"type\":\"field\",\"field\":\"x\"},\"y\":{\"type\":\"field\",\"field\":\"y\"},\"line_color\":\"gray\",\"line_alpha\":0.1,\"line_width\":2}},\"muted_glyph\":{\"type\":\"object\",\"name\":\"Line\",\"id\":\"p1432\",\"attributes\":{\"x\":{\"type\":\"field\",\"field\":\"x\"},\"y\":{\"type\":\"field\",\"field\":\"y\"},\"line_color\":\"gray\",\"line_alpha\":0.2,\"line_width\":2}}}},{\"type\":\"object\",\"name\":\"GlyphRenderer\",\"id\":\"p1442\",\"attributes\":{\"data_source\":{\"type\":\"object\",\"name\":\"ColumnDataSource\",\"id\":\"p1436\",\"attributes\":{\"selected\":{\"type\":\"object\",\"name\":\"Selection\",\"id\":\"p1437\",\"attributes\":{\"indices\":[],\"line_indices\":[]}},\"selection_policy\":{\"type\":\"object\",\"name\":\"UnionRenderers\",\"id\":\"p1438\"},\"data\":{\"type\":\"map\",\"entries\":[[\"x\",[1622505600000.0,1622592000000.0,1622678400000.0,1622764800000.0,1622851200000.0,1622937600000.0,1623024000000.0,1623110400000.0,1623196800000.0,1623283200000.0,1623369600000.0,1623456000000.0,1623542400000.0,1623628800000.0,1623715200000.0,1623801600000.0,1623888000000.0,1623974400000.0,1624060800000.0,1624147200000.0,1624233600000.0,1624320000000.0,1624406400000.0,1624492800000.0,1624579200000.0,1624665600000.0,1624752000000.0,1624838400000.0,1624924800000.0,1625011200000.0,1625097600000.0,1625184000000.0,1625270400000.0,1625356800000.0,1625443200000.0,1625529600000.0,1625616000000.0,1625702400000.0,1625788800000.0,1625875200000.0,1625961600000.0,1626048000000.0,1626134400000.0,1626220800000.0,1626307200000.0,1626393600000.0,1626480000000.0,1626566400000.0,1626652800000.0,1626739200000.0,1626825600000.0,1626912000000.0,1626998400000.0,1627084800000.0,1627171200000.0,1627257600000.0,1627344000000.0,1627430400000.0,1627516800000.0,1627603200000.0,1627689600000.0,1627776000000.0,1627862400000.0,1627948800000.0,1628035200000.0,1628121600000.0,1628208000000.0,1628294400000.0,1628380800000.0,1628467200000.0,1628553600000.0,1628640000000.0,1628726400000.0,1628812800000.0,1628899200000.0,1628985600000.0,1629072000000.0,1629158400000.0,1629244800000.0,1629331200000.0,1629417600000.0,1629504000000.0,1629590400000.0,1629676800000.0,1629763200000.0,1629849600000.0,1629936000000.0,1630022400000.0,1630108800000.0,1630195200000.0,1630281600000.0,1630368000000.0,1630454400000.0,1630540800000.0,1630627200000.0,1630713600000.0,1630800000000.0,1630886400000.0,1630972800000.0,1631059200000.0,1631145600000.0,1631232000000.0,1631318400000.0,1631404800000.0,1631491200000.0,1631577600000.0,1631664000000.0,1631750400000.0,1631836800000.0,1631923200000.0,1632009600000.0,1632096000000.0,1632182400000.0,1632268800000.0,1632355200000.0,1632441600000.0,1632528000000.0,1632614400000.0,1632700800000.0,1632787200000.0,1632873600000.0,1632960000000.0,1633046400000.0,1633132800000.0,1633219200000.0,1633305600000.0,1633392000000.0,1633478400000.0,1633564800000.0,1633651200000.0,1633737600000.0,1633824000000.0,1633910400000.0,1633996800000.0,1634083200000.0,1634169600000.0,1634256000000.0,1634342400000.0,1634428800000.0,1634515200000.0,1634601600000.0,1634688000000.0,1634774400000.0,1634860800000.0,1634947200000.0,1635033600000.0,1635120000000.0,1635206400000.0,1635292800000.0,1635379200000.0,1635465600000.0,1635552000000.0,1635638400000.0,1635724800000.0,1635811200000.0,1635897600000.0,1635984000000.0,1636070400000.0,1636156800000.0,1636243200000.0,1636329600000.0,1636416000000.0,1636502400000.0,1636588800000.0,1636675200000.0,1636761600000.0,1636848000000.0,1636934400000.0,1637020800000.0,1637107200000.0,1637193600000.0,1637280000000.0,1637366400000.0,1637452800000.0,1637539200000.0,1637625600000.0,1637712000000.0,1637798400000.0,1637884800000.0,1637971200000.0,1638057600000.0,1638144000000.0,1638230400000.0,1638316800000.0,1638403200000.0,1638489600000.0,1638576000000.0,1638662400000.0,1638748800000.0,1638835200000.0,1638921600000.0,1639008000000.0,1639094400000.0,1639180800000.0,1639267200000.0,1639353600000.0,1639440000000.0,1639526400000.0,1639612800000.0,1639699200000.0,1639785600000.0,1639872000000.0,1639958400000.0,1640044800000.0,1640131200000.0,1640217600000.0,1640304000000.0,1640390400000.0,1640476800000.0,1640563200000.0,1640649600000.0,1640736000000.0,1640822400000.0,1640908800000.0]],[\"y\",{\"type\":\"ndarray\",\"array\":{\"type\":\"bytes\",\"data\":\"AQAAAAYAAAAJAAAADAAAAA4AAAAVAAAAHwAAACEAAAAjAAAAIwAAACkAAAAtAAAANAAAADUAAAA3AAAAOwAAAD4AAABBAAAARwAAAE0AAABPAAAAVgAAAFwAAABkAAAAaQAAAGwAAABwAAAAeAAAAHoAAACDAAAAiAAAAI0AAACTAAAAmAAAAJ4AAAChAAAApQAAAKoAAACsAAAAugAAAMYAAADKAAAA0QAAANQAAADdAAAA4AAAAOMAAADrAAAA8QAAAPIAAAD1AAAA+AAAAP4AAAAGAQAACgEAAA0BAAASAQAAFgEAABsBAAAjAQAAKQEAAC4BAAAyAQAANgEAADwBAAA9AQAAQgEAAEUBAABOAQAATgEAAFcBAABYAQAAWQEAAF0BAABnAQAAcgEAAHoBAAB8AQAAfQEAAIABAACEAQAAhQEAAI0BAACPAQAAlAEAAJcBAACZAQAAoAEAAKUBAACtAQAAswEAALcBAAC6AQAAwAEAAMUBAADJAQAA0gEAANQBAADZAQAA3QEAAOIBAADjAQAA6AEAAO0BAADuAQAA8gEAAPMBAAD4AQAAAAIAAAQCAAAMAgAADQIAAA8CAAASAgAAGAIAACACAAArAgAAMQIAADYCAAA4AgAAPgIAAEUCAABHAgAASQIAAE4CAABOAgAATgIAAFACAABVAgAAVwIAAF0CAABhAgAAZwIAAG4CAABzAgAAdgIAAH0CAACJAgAAjwIAAJQCAACYAgAAmwIAAJ4CAACgAgAApQIAAKwCAACzAgAAuAIAALsCAADAAgAAwwIAAMcCAADLAgAAzgIAANICAADWAgAA2AIAANwCAADjAgAA6gIAAOwCAADyAgAA+AIAAPsCAAD/AgAABQMAAA8DAAATAwAAGAMAABkDAAAfAwAAJAMAACoDAAAzAwAANgMAADkDAAA8AwAAQQMAAEQDAABJAwAATgMAAFUDAABZAwAAXQMAAF8DAABhAwAAaAMAAG0DAABvAwAAcQMAAHQDAAB0AwAAdwMAAHwDAACJAwAAjwMAAJYDAACYAwAAnQMAAKMDAACsAwAAswMAALgDAAC5AwAAvgMAAMADAADDAwAAxgMAAMoDAADQAwAA0wMAANgDAADbAwAA3gMAAA==\"},\"shape\":[214],\"dtype\":\"int32\",\"order\":\"little\"}]]}}},\"view\":{\"type\":\"object\",\"name\":\"CDSView\",\"id\":\"p1443\",\"attributes\":{\"filter\":{\"type\":\"object\",\"name\":\"AllIndices\",\"id\":\"p1444\"}}},\"glyph\":{\"type\":\"object\",\"name\":\"Line\",\"id\":\"p1439\",\"attributes\":{\"x\":{\"type\":\"field\",\"field\":\"x\"},\"y\":{\"type\":\"field\",\"field\":\"y\"},\"line_color\":\"red\",\"line_width\":2}},\"nonselection_glyph\":{\"type\":\"object\",\"name\":\"Line\",\"id\":\"p1440\",\"attributes\":{\"x\":{\"type\":\"field\",\"field\":\"x\"},\"y\":{\"type\":\"field\",\"field\":\"y\"},\"line_color\":\"red\",\"line_alpha\":0.1,\"line_width\":2}},\"muted_glyph\":{\"type\":\"object\",\"name\":\"Line\",\"id\":\"p1441\",\"attributes\":{\"x\":{\"type\":\"field\",\"field\":\"x\"},\"y\":{\"type\":\"field\",\"field\":\"y\"},\"line_color\":\"red\",\"line_alpha\":0.2,\"line_width\":2}}}}],\"toolbar\":{\"type\":\"object\",\"name\":\"Toolbar\",\"id\":\"p1401\",\"attributes\":{\"tools\":[{\"type\":\"object\",\"name\":\"PanTool\",\"id\":\"p1414\"},{\"type\":\"object\",\"name\":\"WheelZoomTool\",\"id\":\"p1415\",\"attributes\":{\"renderers\":\"auto\"}},{\"type\":\"object\",\"name\":\"BoxZoomTool\",\"id\":\"p1416\",\"attributes\":{\"overlay\":{\"type\":\"object\",\"name\":\"BoxAnnotation\",\"id\":\"p1417\",\"attributes\":{\"syncable\":false,\"line_color\":\"black\",\"line_alpha\":1.0,\"line_width\":2,\"line_dash\":[4,4],\"fill_color\":\"lightgrey\",\"fill_alpha\":0.5,\"level\":\"overlay\",\"visible\":false,\"left\":{\"type\":\"number\",\"value\":\"nan\"},\"right\":{\"type\":\"number\",\"value\":\"nan\"},\"top\":{\"type\":\"number\",\"value\":\"nan\"},\"bottom\":{\"type\":\"number\",\"value\":\"nan\"},\"left_units\":\"canvas\",\"right_units\":\"canvas\",\"top_units\":\"canvas\",\"bottom_units\":\"canvas\",\"handles\":{\"type\":\"object\",\"name\":\"BoxInteractionHandles\",\"id\":\"p1423\",\"attributes\":{\"all\":{\"type\":\"object\",\"name\":\"AreaVisuals\",\"id\":\"p1422\",\"attributes\":{\"fill_color\":\"white\",\"hover_fill_color\":\"lightgray\"}}}}}}}},{\"type\":\"object\",\"name\":\"SaveTool\",\"id\":\"p1424\"},{\"type\":\"object\",\"name\":\"ResetTool\",\"id\":\"p1425\"},{\"type\":\"object\",\"name\":\"HelpTool\",\"id\":\"p1426\"}]}},\"toolbar_location\":null,\"left\":[{\"type\":\"object\",\"name\":\"LinearAxis\",\"id\":\"p1409\",\"attributes\":{\"ticker\":{\"type\":\"object\",\"name\":\"BasicTicker\",\"id\":\"p1410\",\"attributes\":{\"mantissas\":[1,2,5]}},\"formatter\":{\"type\":\"object\",\"name\":\"BasicTickFormatter\",\"id\":\"p1411\"},\"axis_label\":\"Sales amount\",\"major_label_policy\":{\"type\":\"object\",\"name\":\"AllLabels\",\"id\":\"p1412\"}}}],\"below\":[{\"type\":\"object\",\"name\":\"LinearAxis\",\"id\":\"p1404\",\"attributes\":{\"ticker\":{\"type\":\"object\",\"name\":\"BasicTicker\",\"id\":\"p1405\",\"attributes\":{\"mantissas\":[1,2,5]}},\"formatter\":{\"type\":\"object\",\"name\":\"BasicTickFormatter\",\"id\":\"p1406\"},\"axis_label\":\"Day Number\",\"major_label_policy\":{\"type\":\"object\",\"name\":\"AllLabels\",\"id\":\"p1407\"}}}],\"center\":[{\"type\":\"object\",\"name\":\"Grid\",\"id\":\"p1408\",\"attributes\":{\"axis\":{\"id\":\"p1404\"}}},{\"type\":\"object\",\"name\":\"Grid\",\"id\":\"p1413\",\"attributes\":{\"dimension\":1,\"axis\":{\"id\":\"p1409\"}}}]}}]}};\n  const render_items = [{\"docid\":\"b60b5625-b1d9-4045-9d9d-9ed38dc1d530\",\"roots\":{\"p1392\":\"cd016e36-b705-47a6-9a79-91e0f7d8c9da\"},\"root_ids\":[\"p1392\"]}];\n  void root.Bokeh.embed.embed_items_notebook(docs_json, render_items);\n  }\n  if (root.Bokeh !== undefined) {\n    embed_document(root);\n  } else {\n    let attempts = 0;\n    const timer = setInterval(function(root) {\n      if (root.Bokeh !== undefined) {\n        clearInterval(timer);\n        embed_document(root);\n      } else {\n        attempts++;\n        if (attempts > 100) {\n          clearInterval(timer);\n          console.log(\"Bokeh: ERROR: Unable to run BokehJS code because BokehJS library is missing\");\n        }\n      }\n    }, 10, root)\n  }\n})(window);",
      "application/vnd.bokehjs_exec.v0+json": ""
     },
     "metadata": {
      "application/vnd.bokehjs_exec.v0+json": {
       "id": "p1392"
      }
     },
     "output_type": "display_data"
    }
   ],
   "source": [
    "# Output the visualization directly in the notebook\n",
    "output_notebook()\n",
    "\n",
    "# Create a figure with a datetime type x-axis\n",
    "fig = figure(title='TITLE',\n",
    "             height=400, width=700,\n",
    "             x_axis_label='Day Number', y_axis_label='Sales amount',\n",
    "             toolbar_location=None)\n",
    "\n",
    "# The cumulative sum will be a trend line\n",
    "fig.line(x=dates_list, y=np.cumsum(flat_daily_values_premium),\n",
    "         color='gray', line_width=2)\n",
    "fig.line(x=dates_list, y=np.cumsum(flat_daily_values_unlock),\n",
    "         color='red', line_width=2)\n",
    "\n",
    "# Let's check it out\n",
    "show(fig)"
   ]
  },
  {
   "cell_type": "markdown",
   "metadata": {},
   "source": [
    "## Plot 2: Sales data per weekday"
   ]
  },
  {
   "cell_type": "markdown",
   "metadata": {},
   "source": [
    "### pre-processing"
   ]
  },
  {
   "cell_type": "code",
   "execution_count": 47,
   "metadata": {},
   "outputs": [],
   "source": [
    "#first, we need to get a list of average amount of sales per weekday\n",
    "days_sales_volume_total = {}\n",
    "days_sales_volume_premium = {}\n",
    "days_sales_volume_unlock = {}\n",
    "for day in days_map.keys():\n",
    "    #get the mean amount of sales for that day\n",
    "    day_df = df.loc[df['day of week'] == days_map[day]]\n",
    "    total_sales_vol = len(day_df)\n",
    "    premium_sales_vol = len(day_df.loc[day_df['sku id'] == \"premium\"])\n",
    "    unlock_sales_vol = len(day_df.loc[day_df['sku id'] == \"unlockcharactermanager\"])\n",
    "    days_sales_volume_total[day] = total_sales_vol/7 #average over all week days\n",
    "    days_sales_volume_premium[day] = premium_sales_vol/7 #average over all week days\n",
    "    days_sales_volume_unlock[day] = unlock_sales_vol/7 #average over all week days"
   ]
  },
  {
   "cell_type": "markdown",
   "metadata": {},
   "source": [
    "### bokeh plot"
   ]
  },
  {
   "cell_type": "code",
   "execution_count": 48,
   "metadata": {},
   "outputs": [
    {
     "data": {
      "text/html": [
       "    <style>\n",
       "        .bk-notebook-logo {\n",
       "            display: block;\n",
       "            width: 20px;\n",
       "            height: 20px;\n",
       "            background-image: url(data:image/png;base64,iVBORw0KGgoAAAANSUhEUgAAABQAAAAUCAYAAACNiR0NAAAABHNCSVQICAgIfAhkiAAAAAlwSFlzAAALEgAACxIB0t1+/AAAABx0RVh0U29mdHdhcmUAQWRvYmUgRmlyZXdvcmtzIENTNui8sowAAAOkSURBVDiNjZRtaJVlGMd/1/08zzln5zjP1LWcU9N0NkN8m2CYjpgQYQXqSs0I84OLIC0hkEKoPtiH3gmKoiJDU7QpLgoLjLIQCpEsNJ1vqUOdO7ppbuec5+V+rj4ctwzd8IIbbi6u+8f1539dt3A78eXC7QizUF7gyV1fD1Yqg4JWz84yffhm0qkFqBogB9rM8tZdtwVsPUhWhGcFJngGeWrPzHm5oaMmkfEg1usvLFyc8jLRqDOMru7AyC8saQr7GG7f5fvDeH7Ej8CM66nIF+8yngt6HWaKh7k49Soy9nXurCi1o3qUbS3zWfrYeQDTB/Qj6kX6Ybhw4B+bOYoLKCC9H3Nu/leUTZ1JdRWkkn2ldcCamzrcf47KKXdAJllSlxAOkRgyHsGC/zRday5Qld9DyoM4/q/rUoy/CXh3jzOu3bHUVZeU+DEn8FInkPBFlu3+nW3Nw0mk6vCDiWg8CeJaxEwuHS3+z5RgY+YBR6V1Z1nxSOfoaPa4LASWxxdNp+VWTk7+4vzaou8v8PN+xo+KY2xsw6une2frhw05CTYOmQvsEhjhWjn0bmXPjpE1+kplmmkP3suftwTubK9Vq22qKmrBhpY4jvd5afdRA3wGjFAgcnTK2s4hY0/GPNIb0nErGMCRxWOOX64Z8RAC4oCXdklmEvcL8o0BfkNK4lUg9HTl+oPlQxdNo3Mg4Nv175e/1LDGzZen30MEjRUtmXSfiTVu1kK8W4txyV6BMKlbgk3lMwYCiusNy9fVfvvwMxv8Ynl6vxoByANLTWplvuj/nF9m2+PDtt1eiHPBr1oIfhCChQMBw6Aw0UulqTKZdfVvfG7VcfIqLG9bcldL/+pdWTLxLUy8Qq38heUIjh4XlzZxzQm19lLFlr8vdQ97rjZVOLf8nclzckbcD4wxXMidpX30sFd37Fv/GtwwhzhxGVAprjbg0gCAEeIgwCZyTV2Z1REEW8O4py0wsjeloKoMr6iCY6dP92H6Vw/oTyICIthibxjm/DfN9lVz8IqtqKYLUXfoKVMVQVVJOElGjrnnUt9T9wbgp8AyYKaGlqingHZU/uG2NTZSVqwHQTWkx9hxjkpWDaCg6Ckj5qebgBVbT3V3NNXMSiWSDdGV3hrtzla7J+duwPOToIg42ChPQOQjspnSlp1V+Gjdged7+8UN5CRAV7a5EdFNwCjEaBR27b3W890TE7g24NAP/mMDXRWrGoFPQI9ls/MWO2dWFAar/xcOIImbbpA3zgAAAABJRU5ErkJggg==);\n",
       "        }\n",
       "    </style>\n",
       "    <div>\n",
       "        <a href=\"https://bokeh.org\" target=\"_blank\" class=\"bk-notebook-logo\"></a>\n",
       "        <span id=\"ce07887e-f09f-42f9-b91f-27f254245d71\">Loading BokehJS ...</span>\n",
       "    </div>\n"
      ]
     },
     "metadata": {},
     "output_type": "display_data"
    },
    {
     "data": {
      "application/javascript": "'use strict';\n(function(root) {\n  function now() {\n    return new Date();\n  }\n\n  const force = true;\n\n  if (typeof root._bokeh_onload_callbacks === \"undefined\" || force === true) {\n    root._bokeh_onload_callbacks = [];\n    root._bokeh_is_loading = undefined;\n  }\n\nconst JS_MIME_TYPE = 'application/javascript';\n  const HTML_MIME_TYPE = 'text/html';\n  const EXEC_MIME_TYPE = 'application/vnd.bokehjs_exec.v0+json';\n  const CLASS_NAME = 'output_bokeh rendered_html';\n\n  /**\n   * Render data to the DOM node\n   */\n  function render(props, node) {\n    const script = document.createElement(\"script\");\n    node.appendChild(script);\n  }\n\n  /**\n   * Handle when an output is cleared or removed\n   */\n  function handleClearOutput(event, handle) {\n    function drop(id) {\n      const view = Bokeh.index.get_by_id(id)\n      if (view != null) {\n        view.model.document.clear()\n        Bokeh.index.delete(view)\n      }\n    }\n\n    const cell = handle.cell;\n\n    const id = cell.output_area._bokeh_element_id;\n    const server_id = cell.output_area._bokeh_server_id;\n\n    // Clean up Bokeh references\n    if (id != null) {\n      drop(id)\n    }\n\n    if (server_id !== undefined) {\n      // Clean up Bokeh references\n      const cmd_clean = \"from bokeh.io.state import curstate; print(curstate().uuid_to_server['\" + server_id + \"'].get_sessions()[0].document.roots[0]._id)\";\n      cell.notebook.kernel.execute(cmd_clean, {\n        iopub: {\n          output: function(msg) {\n            const id = msg.content.text.trim()\n            drop(id)\n          }\n        }\n      });\n      // Destroy server and session\n      const cmd_destroy = \"import bokeh.io.notebook as ion; ion.destroy_server('\" + server_id + \"')\";\n      cell.notebook.kernel.execute(cmd_destroy);\n    }\n  }\n\n  /**\n   * Handle when a new output is added\n   */\n  function handleAddOutput(event, handle) {\n    const output_area = handle.output_area;\n    const output = handle.output;\n\n    // limit handleAddOutput to display_data with EXEC_MIME_TYPE content only\n    if ((output.output_type != \"display_data\") || (!Object.prototype.hasOwnProperty.call(output.data, EXEC_MIME_TYPE))) {\n      return\n    }\n\n    const toinsert = output_area.element.find(\".\" + CLASS_NAME.split(' ')[0]);\n\n    if (output.metadata[EXEC_MIME_TYPE][\"id\"] !== undefined) {\n      toinsert[toinsert.length - 1].firstChild.textContent = output.data[JS_MIME_TYPE];\n      // store reference to embed id on output_area\n      output_area._bokeh_element_id = output.metadata[EXEC_MIME_TYPE][\"id\"];\n    }\n    if (output.metadata[EXEC_MIME_TYPE][\"server_id\"] !== undefined) {\n      const bk_div = document.createElement(\"div\");\n      bk_div.innerHTML = output.data[HTML_MIME_TYPE];\n      const script_attrs = bk_div.children[0].attributes;\n      for (let i = 0; i < script_attrs.length; i++) {\n        toinsert[toinsert.length - 1].firstChild.setAttribute(script_attrs[i].name, script_attrs[i].value);\n        toinsert[toinsert.length - 1].firstChild.textContent = bk_div.children[0].textContent\n      }\n      // store reference to server id on output_area\n      output_area._bokeh_server_id = output.metadata[EXEC_MIME_TYPE][\"server_id\"];\n    }\n  }\n\n  function register_renderer(events, OutputArea) {\n\n    function append_mime(data, metadata, element) {\n      // create a DOM node to render to\n      const toinsert = this.create_output_subarea(\n        metadata,\n        CLASS_NAME,\n        EXEC_MIME_TYPE\n      );\n      this.keyboard_manager.register_events(toinsert);\n      // Render to node\n      const props = {data: data, metadata: metadata[EXEC_MIME_TYPE]};\n      render(props, toinsert[toinsert.length - 1]);\n      element.append(toinsert);\n      return toinsert\n    }\n\n    /* Handle when an output is cleared or removed */\n    events.on('clear_output.CodeCell', handleClearOutput);\n    events.on('delete.Cell', handleClearOutput);\n\n    /* Handle when a new output is added */\n    events.on('output_added.OutputArea', handleAddOutput);\n\n    /**\n     * Register the mime type and append_mime function with output_area\n     */\n    OutputArea.prototype.register_mime_type(EXEC_MIME_TYPE, append_mime, {\n      /* Is output safe? */\n      safe: true,\n      /* Index of renderer in `output_area.display_order` */\n      index: 0\n    });\n  }\n\n  // register the mime type if in Jupyter Notebook environment and previously unregistered\n  if (root.Jupyter !== undefined) {\n    const events = require('base/js/events');\n    const OutputArea = require('notebook/js/outputarea').OutputArea;\n\n    if (OutputArea.prototype.mime_types().indexOf(EXEC_MIME_TYPE) == -1) {\n      register_renderer(events, OutputArea);\n    }\n  }\n  if (typeof (root._bokeh_timeout) === \"undefined\" || force === true) {\n    root._bokeh_timeout = Date.now() + 5000;\n    root._bokeh_failed_load = false;\n  }\n\n  const NB_LOAD_WARNING = {'data': {'text/html':\n     \"<div style='background-color: #fdd'>\\n\"+\n     \"<p>\\n\"+\n     \"BokehJS does not appear to have successfully loaded. If loading BokehJS from CDN, this \\n\"+\n     \"may be due to a slow or bad network connection. Possible fixes:\\n\"+\n     \"</p>\\n\"+\n     \"<ul>\\n\"+\n     \"<li>re-rerun `output_notebook()` to attempt to load from CDN again, or</li>\\n\"+\n     \"<li>use INLINE resources instead, as so:</li>\\n\"+\n     \"</ul>\\n\"+\n     \"<code>\\n\"+\n     \"from bokeh.resources import INLINE\\n\"+\n     \"output_notebook(resources=INLINE)\\n\"+\n     \"</code>\\n\"+\n     \"</div>\"}};\n\n  function display_loaded(error = null) {\n    const el = document.getElementById(\"ce07887e-f09f-42f9-b91f-27f254245d71\");\n    if (el != null) {\n      const html = (() => {\n        if (typeof root.Bokeh === \"undefined\") {\n          if (error == null) {\n            return \"BokehJS is loading ...\";\n          } else {\n            return \"BokehJS failed to load.\";\n          }\n        } else {\n          const prefix = `BokehJS ${root.Bokeh.version}`;\n          if (error == null) {\n            return `${prefix} successfully loaded.`;\n          } else {\n            return `${prefix} <b>encountered errors</b> while loading and may not function as expected.`;\n          }\n        }\n      })();\n      el.innerHTML = html;\n\n      if (error != null) {\n        const wrapper = document.createElement(\"div\");\n        wrapper.style.overflow = \"auto\";\n        wrapper.style.height = \"5em\";\n        wrapper.style.resize = \"vertical\";\n        const content = document.createElement(\"div\");\n        content.style.fontFamily = \"monospace\";\n        content.style.whiteSpace = \"pre-wrap\";\n        content.style.backgroundColor = \"rgb(255, 221, 221)\";\n        content.textContent = error.stack ?? error.toString();\n        wrapper.append(content);\n        el.append(wrapper);\n      }\n    } else if (Date.now() < root._bokeh_timeout) {\n      setTimeout(() => display_loaded(error), 100);\n    }\n  }\n\n  function run_callbacks() {\n    try {\n      root._bokeh_onload_callbacks.forEach(function(callback) {\n        if (callback != null)\n          callback();\n      });\n    } finally {\n      delete root._bokeh_onload_callbacks\n    }\n    console.debug(\"Bokeh: all callbacks have finished\");\n  }\n\n  function load_libs(css_urls, js_urls, callback) {\n    if (css_urls == null) css_urls = [];\n    if (js_urls == null) js_urls = [];\n\n    root._bokeh_onload_callbacks.push(callback);\n    if (root._bokeh_is_loading > 0) {\n      console.debug(\"Bokeh: BokehJS is being loaded, scheduling callback at\", now());\n      return null;\n    }\n    if (js_urls == null || js_urls.length === 0) {\n      run_callbacks();\n      return null;\n    }\n    console.debug(\"Bokeh: BokehJS not loaded, scheduling load and callback at\", now());\n    root._bokeh_is_loading = css_urls.length + js_urls.length;\n\n    function on_load() {\n      root._bokeh_is_loading--;\n      if (root._bokeh_is_loading === 0) {\n        console.debug(\"Bokeh: all BokehJS libraries/stylesheets loaded\");\n        run_callbacks()\n      }\n    }\n\n    function on_error(url) {\n      console.error(\"failed to load \" + url);\n    }\n\n    for (let i = 0; i < css_urls.length; i++) {\n      const url = css_urls[i];\n      const element = document.createElement(\"link\");\n      element.onload = on_load;\n      element.onerror = on_error.bind(null, url);\n      element.rel = \"stylesheet\";\n      element.type = \"text/css\";\n      element.href = url;\n      console.debug(\"Bokeh: injecting link tag for BokehJS stylesheet: \", url);\n      document.body.appendChild(element);\n    }\n\n    for (let i = 0; i < js_urls.length; i++) {\n      const url = js_urls[i];\n      const element = document.createElement('script');\n      element.onload = on_load;\n      element.onerror = on_error.bind(null, url);\n      element.async = false;\n      element.src = url;\n      console.debug(\"Bokeh: injecting script tag for BokehJS library: \", url);\n      document.head.appendChild(element);\n    }\n  };\n\n  function inject_raw_css(css) {\n    const element = document.createElement(\"style\");\n    element.appendChild(document.createTextNode(css));\n    document.body.appendChild(element);\n  }\n\n  const js_urls = [\"https://cdn.bokeh.org/bokeh/release/bokeh-3.6.2.min.js\", \"https://cdn.bokeh.org/bokeh/release/bokeh-gl-3.6.2.min.js\", \"https://cdn.bokeh.org/bokeh/release/bokeh-widgets-3.6.2.min.js\", \"https://cdn.bokeh.org/bokeh/release/bokeh-tables-3.6.2.min.js\", \"https://cdn.bokeh.org/bokeh/release/bokeh-mathjax-3.6.2.min.js\"];\n  const css_urls = [];\n\n  const inline_js = [    function(Bokeh) {\n      Bokeh.set_log_level(\"info\");\n    },\nfunction(Bokeh) {\n    }\n  ];\n\n  function run_inline_js() {\n    if (root.Bokeh !== undefined || force === true) {\n      try {\n            for (let i = 0; i < inline_js.length; i++) {\n      inline_js[i].call(root, root.Bokeh);\n    }\n\n      } catch (error) {display_loaded(error);throw error;\n      }if (force === true) {\n        display_loaded();\n      }} else if (Date.now() < root._bokeh_timeout) {\n      setTimeout(run_inline_js, 100);\n    } else if (!root._bokeh_failed_load) {\n      console.log(\"Bokeh: BokehJS failed to load within specified timeout.\");\n      root._bokeh_failed_load = true;\n    } else if (force !== true) {\n      const cell = $(document.getElementById(\"ce07887e-f09f-42f9-b91f-27f254245d71\")).parents('.cell').data().cell;\n      cell.output_area.append_execute_result(NB_LOAD_WARNING)\n    }\n  }\n\n  if (root._bokeh_is_loading === 0) {\n    console.debug(\"Bokeh: BokehJS loaded, going straight to plotting\");\n    run_inline_js();\n  } else {\n    load_libs(css_urls, js_urls, function() {\n      console.debug(\"Bokeh: BokehJS plotting callback run at\", now());\n      run_inline_js();\n    });\n  }\n}(window));",
      "application/vnd.bokehjs_load.v0+json": ""
     },
     "metadata": {},
     "output_type": "display_data"
    },
    {
     "data": {
      "text/html": [
       "\n",
       "  <div id=\"ee69ebc7-94b2-41ec-8ad3-9d9e07d0aa2e\" data-root-id=\"p1450\" style=\"display: contents;\"></div>\n"
      ]
     },
     "metadata": {},
     "output_type": "display_data"
    },
    {
     "data": {
      "application/javascript": "(function(root) {\n  function embed_document(root) {\n  const docs_json = {\"c0e9c9c2-a9b7-4fe5-8c47-fe843976a4bd\":{\"version\":\"3.6.2\",\"title\":\"Bokeh Application\",\"roots\":[{\"type\":\"object\",\"name\":\"Figure\",\"id\":\"p1450\",\"attributes\":{\"width\":700,\"height\":400,\"x_range\":{\"type\":\"object\",\"name\":\"FactorRange\",\"id\":\"p1460\",\"attributes\":{\"factors\":[\"Mon\",\"Tue\",\"Wed\",\"Thu\",\"Fri\",\"Sat\",\"Sun\"]}},\"y_range\":{\"type\":\"object\",\"name\":\"DataRange1d\",\"id\":\"p1452\"},\"x_scale\":{\"type\":\"object\",\"name\":\"CategoricalScale\",\"id\":\"p1461\"},\"y_scale\":{\"type\":\"object\",\"name\":\"LinearScale\",\"id\":\"p1462\"},\"title\":{\"type\":\"object\",\"name\":\"Title\",\"id\":\"p1453\",\"attributes\":{\"text\":\"Average Sales Volume per Weekday\"}},\"renderers\":[{\"type\":\"object\",\"name\":\"GlyphRenderer\",\"id\":\"p1493\",\"attributes\":{\"data_source\":{\"type\":\"object\",\"name\":\"ColumnDataSource\",\"id\":\"p1447\",\"attributes\":{\"selected\":{\"type\":\"object\",\"name\":\"Selection\",\"id\":\"p1448\",\"attributes\":{\"indices\":[],\"line_indices\":[]}},\"selection_policy\":{\"type\":\"object\",\"name\":\"UnionRenderers\",\"id\":\"p1449\"},\"data\":{\"type\":\"map\",\"entries\":[[\"days\",[\"Mon\",\"Tue\",\"Wed\",\"Thu\",\"Fri\",\"Sat\",\"Sun\"]],[\"sales\",[32.0,28.714285714285715,28.285714285714285,31.857142857142858,33.57142857142857,42.142857142857146,46.142857142857146]]]}}},\"view\":{\"type\":\"object\",\"name\":\"CDSView\",\"id\":\"p1494\",\"attributes\":{\"filter\":{\"type\":\"object\",\"name\":\"AllIndices\",\"id\":\"p1495\"}}},\"glyph\":{\"type\":\"object\",\"name\":\"VBar\",\"id\":\"p1490\",\"attributes\":{\"x\":{\"type\":\"field\",\"field\":\"days\"},\"width\":{\"type\":\"value\",\"value\":0.5},\"top\":{\"type\":\"field\",\"field\":\"sales\"},\"line_color\":{\"type\":\"value\",\"value\":\"#1f77b4\"},\"fill_color\":{\"type\":\"field\",\"field\":\"days\",\"transform\":{\"type\":\"object\",\"name\":\"CategoricalColorMapper\",\"id\":\"p1486\",\"attributes\":{\"palette\":[\"#084594\",\"#2171b5\",\"#4292c6\",\"#6baed6\",\"#9ecae1\",\"#c6dbef\",\"#eff3ff\"],\"factors\":[\"Mon\",\"Tue\",\"Wed\",\"Thu\",\"Fri\",\"Sat\",\"Sun\"]}}}}},\"nonselection_glyph\":{\"type\":\"object\",\"name\":\"VBar\",\"id\":\"p1491\",\"attributes\":{\"x\":{\"type\":\"field\",\"field\":\"days\"},\"width\":{\"type\":\"value\",\"value\":0.5},\"top\":{\"type\":\"field\",\"field\":\"sales\"},\"line_color\":{\"type\":\"value\",\"value\":\"#1f77b4\"},\"line_alpha\":{\"type\":\"value\",\"value\":0.1},\"fill_color\":{\"type\":\"field\",\"field\":\"days\",\"transform\":{\"id\":\"p1486\"}},\"fill_alpha\":{\"type\":\"value\",\"value\":0.1},\"hatch_alpha\":{\"type\":\"value\",\"value\":0.1}}},\"muted_glyph\":{\"type\":\"object\",\"name\":\"VBar\",\"id\":\"p1492\",\"attributes\":{\"x\":{\"type\":\"field\",\"field\":\"days\"},\"width\":{\"type\":\"value\",\"value\":0.5},\"top\":{\"type\":\"field\",\"field\":\"sales\"},\"line_color\":{\"type\":\"value\",\"value\":\"#1f77b4\"},\"line_alpha\":{\"type\":\"value\",\"value\":0.2},\"fill_color\":{\"type\":\"field\",\"field\":\"days\",\"transform\":{\"id\":\"p1486\"}},\"fill_alpha\":{\"type\":\"value\",\"value\":0.2},\"hatch_alpha\":{\"type\":\"value\",\"value\":0.2}}}}}],\"toolbar\":{\"type\":\"object\",\"name\":\"Toolbar\",\"id\":\"p1459\",\"attributes\":{\"tools\":[{\"type\":\"object\",\"name\":\"PanTool\",\"id\":\"p1473\"},{\"type\":\"object\",\"name\":\"WheelZoomTool\",\"id\":\"p1474\",\"attributes\":{\"renderers\":\"auto\"}},{\"type\":\"object\",\"name\":\"BoxZoomTool\",\"id\":\"p1475\",\"attributes\":{\"overlay\":{\"type\":\"object\",\"name\":\"BoxAnnotation\",\"id\":\"p1476\",\"attributes\":{\"syncable\":false,\"line_color\":\"black\",\"line_alpha\":1.0,\"line_width\":2,\"line_dash\":[4,4],\"fill_color\":\"lightgrey\",\"fill_alpha\":0.5,\"level\":\"overlay\",\"visible\":false,\"left\":{\"type\":\"number\",\"value\":\"nan\"},\"right\":{\"type\":\"number\",\"value\":\"nan\"},\"top\":{\"type\":\"number\",\"value\":\"nan\"},\"bottom\":{\"type\":\"number\",\"value\":\"nan\"},\"left_units\":\"canvas\",\"right_units\":\"canvas\",\"top_units\":\"canvas\",\"bottom_units\":\"canvas\",\"handles\":{\"type\":\"object\",\"name\":\"BoxInteractionHandles\",\"id\":\"p1482\",\"attributes\":{\"all\":{\"type\":\"object\",\"name\":\"AreaVisuals\",\"id\":\"p1481\",\"attributes\":{\"fill_color\":\"white\",\"hover_fill_color\":\"lightgray\"}}}}}}}},{\"type\":\"object\",\"name\":\"SaveTool\",\"id\":\"p1483\"},{\"type\":\"object\",\"name\":\"ResetTool\",\"id\":\"p1484\"},{\"type\":\"object\",\"name\":\"HelpTool\",\"id\":\"p1485\"}]}},\"toolbar_location\":null,\"left\":[{\"type\":\"object\",\"name\":\"LinearAxis\",\"id\":\"p1468\",\"attributes\":{\"ticker\":{\"type\":\"object\",\"name\":\"BasicTicker\",\"id\":\"p1469\",\"attributes\":{\"mantissas\":[1,2,5]}},\"formatter\":{\"type\":\"object\",\"name\":\"BasicTickFormatter\",\"id\":\"p1470\"},\"axis_label\":\"Sales Volume\",\"major_label_policy\":{\"type\":\"object\",\"name\":\"AllLabels\",\"id\":\"p1471\"}}}],\"below\":[{\"type\":\"object\",\"name\":\"CategoricalAxis\",\"id\":\"p1463\",\"attributes\":{\"ticker\":{\"type\":\"object\",\"name\":\"CategoricalTicker\",\"id\":\"p1464\"},\"formatter\":{\"type\":\"object\",\"name\":\"CategoricalTickFormatter\",\"id\":\"p1465\"},\"axis_label\":\"Day of Week\",\"major_label_policy\":{\"type\":\"object\",\"name\":\"AllLabels\",\"id\":\"p1466\"}}}],\"center\":[{\"type\":\"object\",\"name\":\"Grid\",\"id\":\"p1467\",\"attributes\":{\"axis\":{\"id\":\"p1463\"}}},{\"type\":\"object\",\"name\":\"Grid\",\"id\":\"p1472\",\"attributes\":{\"dimension\":1,\"axis\":{\"id\":\"p1468\"}}}]}}]}};\n  const render_items = [{\"docid\":\"c0e9c9c2-a9b7-4fe5-8c47-fe843976a4bd\",\"roots\":{\"p1450\":\"ee69ebc7-94b2-41ec-8ad3-9d9e07d0aa2e\"},\"root_ids\":[\"p1450\"]}];\n  void root.Bokeh.embed.embed_items_notebook(docs_json, render_items);\n  }\n  if (root.Bokeh !== undefined) {\n    embed_document(root);\n  } else {\n    let attempts = 0;\n    const timer = setInterval(function(root) {\n      if (root.Bokeh !== undefined) {\n        clearInterval(timer);\n        embed_document(root);\n      } else {\n        attempts++;\n        if (attempts > 100) {\n          clearInterval(timer);\n          console.log(\"Bokeh: ERROR: Unable to run BokehJS code because BokehJS library is missing\");\n        }\n      }\n    }, 10, root)\n  }\n})(window);",
      "application/vnd.bokehjs_exec.v0+json": ""
     },
     "metadata": {
      "application/vnd.bokehjs_exec.v0+json": {
       "id": "p1450"
      }
     },
     "output_type": "display_data"
    },
    {
     "data": {
      "text/html": [
       "    <style>\n",
       "        .bk-notebook-logo {\n",
       "            display: block;\n",
       "            width: 20px;\n",
       "            height: 20px;\n",
       "            background-image: url(data:image/png;base64,iVBORw0KGgoAAAANSUhEUgAAABQAAAAUCAYAAACNiR0NAAAABHNCSVQICAgIfAhkiAAAAAlwSFlzAAALEgAACxIB0t1+/AAAABx0RVh0U29mdHdhcmUAQWRvYmUgRmlyZXdvcmtzIENTNui8sowAAAOkSURBVDiNjZRtaJVlGMd/1/08zzln5zjP1LWcU9N0NkN8m2CYjpgQYQXqSs0I84OLIC0hkEKoPtiH3gmKoiJDU7QpLgoLjLIQCpEsNJ1vqUOdO7ppbuec5+V+rj4ctwzd8IIbbi6u+8f1539dt3A78eXC7QizUF7gyV1fD1Yqg4JWz84yffhm0qkFqBogB9rM8tZdtwVsPUhWhGcFJngGeWrPzHm5oaMmkfEg1usvLFyc8jLRqDOMru7AyC8saQr7GG7f5fvDeH7Ej8CM66nIF+8yngt6HWaKh7k49Soy9nXurCi1o3qUbS3zWfrYeQDTB/Qj6kX6Ybhw4B+bOYoLKCC9H3Nu/leUTZ1JdRWkkn2ldcCamzrcf47KKXdAJllSlxAOkRgyHsGC/zRday5Qld9DyoM4/q/rUoy/CXh3jzOu3bHUVZeU+DEn8FInkPBFlu3+nW3Nw0mk6vCDiWg8CeJaxEwuHS3+z5RgY+YBR6V1Z1nxSOfoaPa4LASWxxdNp+VWTk7+4vzaou8v8PN+xo+KY2xsw6une2frhw05CTYOmQvsEhjhWjn0bmXPjpE1+kplmmkP3suftwTubK9Vq22qKmrBhpY4jvd5afdRA3wGjFAgcnTK2s4hY0/GPNIb0nErGMCRxWOOX64Z8RAC4oCXdklmEvcL8o0BfkNK4lUg9HTl+oPlQxdNo3Mg4Nv175e/1LDGzZen30MEjRUtmXSfiTVu1kK8W4txyV6BMKlbgk3lMwYCiusNy9fVfvvwMxv8Ynl6vxoByANLTWplvuj/nF9m2+PDtt1eiHPBr1oIfhCChQMBw6Aw0UulqTKZdfVvfG7VcfIqLG9bcldL/+pdWTLxLUy8Qq38heUIjh4XlzZxzQm19lLFlr8vdQ97rjZVOLf8nclzckbcD4wxXMidpX30sFd37Fv/GtwwhzhxGVAprjbg0gCAEeIgwCZyTV2Z1REEW8O4py0wsjeloKoMr6iCY6dP92H6Vw/oTyICIthibxjm/DfN9lVz8IqtqKYLUXfoKVMVQVVJOElGjrnnUt9T9wbgp8AyYKaGlqingHZU/uG2NTZSVqwHQTWkx9hxjkpWDaCg6Ckj5qebgBVbT3V3NNXMSiWSDdGV3hrtzla7J+duwPOToIg42ChPQOQjspnSlp1V+Gjdged7+8UN5CRAV7a5EdFNwCjEaBR27b3W890TE7g24NAP/mMDXRWrGoFPQI9ls/MWO2dWFAar/xcOIImbbpA3zgAAAABJRU5ErkJggg==);\n",
       "        }\n",
       "    </style>\n",
       "    <div>\n",
       "        <a href=\"https://bokeh.org\" target=\"_blank\" class=\"bk-notebook-logo\"></a>\n",
       "        <span id=\"c2224c0c-46fa-481e-bdd3-b85939dcac10\">Loading BokehJS ...</span>\n",
       "    </div>\n"
      ]
     },
     "metadata": {},
     "output_type": "display_data"
    },
    {
     "data": {
      "application/javascript": "'use strict';\n(function(root) {\n  function now() {\n    return new Date();\n  }\n\n  const force = true;\n\n  if (typeof root._bokeh_onload_callbacks === \"undefined\" || force === true) {\n    root._bokeh_onload_callbacks = [];\n    root._bokeh_is_loading = undefined;\n  }\n\nconst JS_MIME_TYPE = 'application/javascript';\n  const HTML_MIME_TYPE = 'text/html';\n  const EXEC_MIME_TYPE = 'application/vnd.bokehjs_exec.v0+json';\n  const CLASS_NAME = 'output_bokeh rendered_html';\n\n  /**\n   * Render data to the DOM node\n   */\n  function render(props, node) {\n    const script = document.createElement(\"script\");\n    node.appendChild(script);\n  }\n\n  /**\n   * Handle when an output is cleared or removed\n   */\n  function handleClearOutput(event, handle) {\n    function drop(id) {\n      const view = Bokeh.index.get_by_id(id)\n      if (view != null) {\n        view.model.document.clear()\n        Bokeh.index.delete(view)\n      }\n    }\n\n    const cell = handle.cell;\n\n    const id = cell.output_area._bokeh_element_id;\n    const server_id = cell.output_area._bokeh_server_id;\n\n    // Clean up Bokeh references\n    if (id != null) {\n      drop(id)\n    }\n\n    if (server_id !== undefined) {\n      // Clean up Bokeh references\n      const cmd_clean = \"from bokeh.io.state import curstate; print(curstate().uuid_to_server['\" + server_id + \"'].get_sessions()[0].document.roots[0]._id)\";\n      cell.notebook.kernel.execute(cmd_clean, {\n        iopub: {\n          output: function(msg) {\n            const id = msg.content.text.trim()\n            drop(id)\n          }\n        }\n      });\n      // Destroy server and session\n      const cmd_destroy = \"import bokeh.io.notebook as ion; ion.destroy_server('\" + server_id + \"')\";\n      cell.notebook.kernel.execute(cmd_destroy);\n    }\n  }\n\n  /**\n   * Handle when a new output is added\n   */\n  function handleAddOutput(event, handle) {\n    const output_area = handle.output_area;\n    const output = handle.output;\n\n    // limit handleAddOutput to display_data with EXEC_MIME_TYPE content only\n    if ((output.output_type != \"display_data\") || (!Object.prototype.hasOwnProperty.call(output.data, EXEC_MIME_TYPE))) {\n      return\n    }\n\n    const toinsert = output_area.element.find(\".\" + CLASS_NAME.split(' ')[0]);\n\n    if (output.metadata[EXEC_MIME_TYPE][\"id\"] !== undefined) {\n      toinsert[toinsert.length - 1].firstChild.textContent = output.data[JS_MIME_TYPE];\n      // store reference to embed id on output_area\n      output_area._bokeh_element_id = output.metadata[EXEC_MIME_TYPE][\"id\"];\n    }\n    if (output.metadata[EXEC_MIME_TYPE][\"server_id\"] !== undefined) {\n      const bk_div = document.createElement(\"div\");\n      bk_div.innerHTML = output.data[HTML_MIME_TYPE];\n      const script_attrs = bk_div.children[0].attributes;\n      for (let i = 0; i < script_attrs.length; i++) {\n        toinsert[toinsert.length - 1].firstChild.setAttribute(script_attrs[i].name, script_attrs[i].value);\n        toinsert[toinsert.length - 1].firstChild.textContent = bk_div.children[0].textContent\n      }\n      // store reference to server id on output_area\n      output_area._bokeh_server_id = output.metadata[EXEC_MIME_TYPE][\"server_id\"];\n    }\n  }\n\n  function register_renderer(events, OutputArea) {\n\n    function append_mime(data, metadata, element) {\n      // create a DOM node to render to\n      const toinsert = this.create_output_subarea(\n        metadata,\n        CLASS_NAME,\n        EXEC_MIME_TYPE\n      );\n      this.keyboard_manager.register_events(toinsert);\n      // Render to node\n      const props = {data: data, metadata: metadata[EXEC_MIME_TYPE]};\n      render(props, toinsert[toinsert.length - 1]);\n      element.append(toinsert);\n      return toinsert\n    }\n\n    /* Handle when an output is cleared or removed */\n    events.on('clear_output.CodeCell', handleClearOutput);\n    events.on('delete.Cell', handleClearOutput);\n\n    /* Handle when a new output is added */\n    events.on('output_added.OutputArea', handleAddOutput);\n\n    /**\n     * Register the mime type and append_mime function with output_area\n     */\n    OutputArea.prototype.register_mime_type(EXEC_MIME_TYPE, append_mime, {\n      /* Is output safe? */\n      safe: true,\n      /* Index of renderer in `output_area.display_order` */\n      index: 0\n    });\n  }\n\n  // register the mime type if in Jupyter Notebook environment and previously unregistered\n  if (root.Jupyter !== undefined) {\n    const events = require('base/js/events');\n    const OutputArea = require('notebook/js/outputarea').OutputArea;\n\n    if (OutputArea.prototype.mime_types().indexOf(EXEC_MIME_TYPE) == -1) {\n      register_renderer(events, OutputArea);\n    }\n  }\n  if (typeof (root._bokeh_timeout) === \"undefined\" || force === true) {\n    root._bokeh_timeout = Date.now() + 5000;\n    root._bokeh_failed_load = false;\n  }\n\n  const NB_LOAD_WARNING = {'data': {'text/html':\n     \"<div style='background-color: #fdd'>\\n\"+\n     \"<p>\\n\"+\n     \"BokehJS does not appear to have successfully loaded. If loading BokehJS from CDN, this \\n\"+\n     \"may be due to a slow or bad network connection. Possible fixes:\\n\"+\n     \"</p>\\n\"+\n     \"<ul>\\n\"+\n     \"<li>re-rerun `output_notebook()` to attempt to load from CDN again, or</li>\\n\"+\n     \"<li>use INLINE resources instead, as so:</li>\\n\"+\n     \"</ul>\\n\"+\n     \"<code>\\n\"+\n     \"from bokeh.resources import INLINE\\n\"+\n     \"output_notebook(resources=INLINE)\\n\"+\n     \"</code>\\n\"+\n     \"</div>\"}};\n\n  function display_loaded(error = null) {\n    const el = document.getElementById(\"c2224c0c-46fa-481e-bdd3-b85939dcac10\");\n    if (el != null) {\n      const html = (() => {\n        if (typeof root.Bokeh === \"undefined\") {\n          if (error == null) {\n            return \"BokehJS is loading ...\";\n          } else {\n            return \"BokehJS failed to load.\";\n          }\n        } else {\n          const prefix = `BokehJS ${root.Bokeh.version}`;\n          if (error == null) {\n            return `${prefix} successfully loaded.`;\n          } else {\n            return `${prefix} <b>encountered errors</b> while loading and may not function as expected.`;\n          }\n        }\n      })();\n      el.innerHTML = html;\n\n      if (error != null) {\n        const wrapper = document.createElement(\"div\");\n        wrapper.style.overflow = \"auto\";\n        wrapper.style.height = \"5em\";\n        wrapper.style.resize = \"vertical\";\n        const content = document.createElement(\"div\");\n        content.style.fontFamily = \"monospace\";\n        content.style.whiteSpace = \"pre-wrap\";\n        content.style.backgroundColor = \"rgb(255, 221, 221)\";\n        content.textContent = error.stack ?? error.toString();\n        wrapper.append(content);\n        el.append(wrapper);\n      }\n    } else if (Date.now() < root._bokeh_timeout) {\n      setTimeout(() => display_loaded(error), 100);\n    }\n  }\n\n  function run_callbacks() {\n    try {\n      root._bokeh_onload_callbacks.forEach(function(callback) {\n        if (callback != null)\n          callback();\n      });\n    } finally {\n      delete root._bokeh_onload_callbacks\n    }\n    console.debug(\"Bokeh: all callbacks have finished\");\n  }\n\n  function load_libs(css_urls, js_urls, callback) {\n    if (css_urls == null) css_urls = [];\n    if (js_urls == null) js_urls = [];\n\n    root._bokeh_onload_callbacks.push(callback);\n    if (root._bokeh_is_loading > 0) {\n      console.debug(\"Bokeh: BokehJS is being loaded, scheduling callback at\", now());\n      return null;\n    }\n    if (js_urls == null || js_urls.length === 0) {\n      run_callbacks();\n      return null;\n    }\n    console.debug(\"Bokeh: BokehJS not loaded, scheduling load and callback at\", now());\n    root._bokeh_is_loading = css_urls.length + js_urls.length;\n\n    function on_load() {\n      root._bokeh_is_loading--;\n      if (root._bokeh_is_loading === 0) {\n        console.debug(\"Bokeh: all BokehJS libraries/stylesheets loaded\");\n        run_callbacks()\n      }\n    }\n\n    function on_error(url) {\n      console.error(\"failed to load \" + url);\n    }\n\n    for (let i = 0; i < css_urls.length; i++) {\n      const url = css_urls[i];\n      const element = document.createElement(\"link\");\n      element.onload = on_load;\n      element.onerror = on_error.bind(null, url);\n      element.rel = \"stylesheet\";\n      element.type = \"text/css\";\n      element.href = url;\n      console.debug(\"Bokeh: injecting link tag for BokehJS stylesheet: \", url);\n      document.body.appendChild(element);\n    }\n\n    for (let i = 0; i < js_urls.length; i++) {\n      const url = js_urls[i];\n      const element = document.createElement('script');\n      element.onload = on_load;\n      element.onerror = on_error.bind(null, url);\n      element.async = false;\n      element.src = url;\n      console.debug(\"Bokeh: injecting script tag for BokehJS library: \", url);\n      document.head.appendChild(element);\n    }\n  };\n\n  function inject_raw_css(css) {\n    const element = document.createElement(\"style\");\n    element.appendChild(document.createTextNode(css));\n    document.body.appendChild(element);\n  }\n\n  const js_urls = [\"https://cdn.bokeh.org/bokeh/release/bokeh-3.6.2.min.js\", \"https://cdn.bokeh.org/bokeh/release/bokeh-gl-3.6.2.min.js\", \"https://cdn.bokeh.org/bokeh/release/bokeh-widgets-3.6.2.min.js\", \"https://cdn.bokeh.org/bokeh/release/bokeh-tables-3.6.2.min.js\", \"https://cdn.bokeh.org/bokeh/release/bokeh-mathjax-3.6.2.min.js\"];\n  const css_urls = [];\n\n  const inline_js = [    function(Bokeh) {\n      Bokeh.set_log_level(\"info\");\n    },\nfunction(Bokeh) {\n    }\n  ];\n\n  function run_inline_js() {\n    if (root.Bokeh !== undefined || force === true) {\n      try {\n            for (let i = 0; i < inline_js.length; i++) {\n      inline_js[i].call(root, root.Bokeh);\n    }\n\n      } catch (error) {display_loaded(error);throw error;\n      }if (force === true) {\n        display_loaded();\n      }} else if (Date.now() < root._bokeh_timeout) {\n      setTimeout(run_inline_js, 100);\n    } else if (!root._bokeh_failed_load) {\n      console.log(\"Bokeh: BokehJS failed to load within specified timeout.\");\n      root._bokeh_failed_load = true;\n    } else if (force !== true) {\n      const cell = $(document.getElementById(\"c2224c0c-46fa-481e-bdd3-b85939dcac10\")).parents('.cell').data().cell;\n      cell.output_area.append_execute_result(NB_LOAD_WARNING)\n    }\n  }\n\n  if (root._bokeh_is_loading === 0) {\n    console.debug(\"Bokeh: BokehJS loaded, going straight to plotting\");\n    run_inline_js();\n  } else {\n    load_libs(css_urls, js_urls, function() {\n      console.debug(\"Bokeh: BokehJS plotting callback run at\", now());\n      run_inline_js();\n    });\n  }\n}(window));",
      "application/vnd.bokehjs_load.v0+json": ""
     },
     "metadata": {},
     "output_type": "display_data"
    },
    {
     "data": {
      "text/html": [
       "\n",
       "  <div id=\"e039c188-38a6-4022-b432-b4220f378950\" data-root-id=\"p1499\" style=\"display: contents;\"></div>\n"
      ]
     },
     "metadata": {},
     "output_type": "display_data"
    },
    {
     "data": {
      "application/javascript": "(function(root) {\n  function embed_document(root) {\n  const docs_json = {\"c0ada871-edfd-46cb-b020-3d7139dae397\":{\"version\":\"3.6.2\",\"title\":\"Bokeh Application\",\"roots\":[{\"type\":\"object\",\"name\":\"Figure\",\"id\":\"p1499\",\"attributes\":{\"width\":700,\"height\":400,\"x_range\":{\"type\":\"object\",\"name\":\"FactorRange\",\"id\":\"p1509\",\"attributes\":{\"factors\":[\"Mon\",\"Tue\",\"Wed\",\"Thu\",\"Fri\",\"Sat\",\"Sun\"]}},\"y_range\":{\"type\":\"object\",\"name\":\"DataRange1d\",\"id\":\"p1501\"},\"x_scale\":{\"type\":\"object\",\"name\":\"CategoricalScale\",\"id\":\"p1510\"},\"y_scale\":{\"type\":\"object\",\"name\":\"LinearScale\",\"id\":\"p1511\"},\"title\":{\"type\":\"object\",\"name\":\"Title\",\"id\":\"p1502\",\"attributes\":{\"text\":\"Average Sales Volume per Weekday (Premium vs Unlock)\"}},\"renderers\":[{\"type\":\"object\",\"name\":\"GlyphRenderer\",\"id\":\"p1542\",\"attributes\":{\"data_source\":{\"type\":\"object\",\"name\":\"ColumnDataSource\",\"id\":\"p1496\",\"attributes\":{\"selected\":{\"type\":\"object\",\"name\":\"Selection\",\"id\":\"p1497\",\"attributes\":{\"indices\":[],\"line_indices\":[]}},\"selection_policy\":{\"type\":\"object\",\"name\":\"UnionRenderers\",\"id\":\"p1498\"},\"data\":{\"type\":\"map\",\"entries\":[[\"days\",[\"Mon\",\"Tue\",\"Wed\",\"Thu\",\"Fri\",\"Sat\",\"Sun\"]],[\"premium\",[14.142857142857142,11.857142857142858,12.0,14.571428571428571,14.714285714285714,17.571428571428573,16.428571428571427]],[\"unlock\",[17.857142857142858,16.857142857142858,16.285714285714285,17.285714285714285,18.857142857142858,24.571428571428573,29.714285714285715]]]}}},\"view\":{\"type\":\"object\",\"name\":\"CDSView\",\"id\":\"p1543\",\"attributes\":{\"filter\":{\"type\":\"object\",\"name\":\"AllIndices\",\"id\":\"p1544\"}}},\"glyph\":{\"type\":\"object\",\"name\":\"VBar\",\"id\":\"p1539\",\"attributes\":{\"x\":{\"type\":\"field\",\"field\":\"days\",\"transform\":{\"type\":\"object\",\"name\":\"Dodge\",\"id\":\"p1535\",\"attributes\":{\"value\":-0.2,\"range\":{\"id\":\"p1509\"}}}},\"width\":{\"type\":\"value\",\"value\":0.4},\"top\":{\"type\":\"field\",\"field\":\"premium\"},\"line_color\":{\"type\":\"value\",\"value\":\"royalblue\"},\"fill_color\":{\"type\":\"value\",\"value\":\"royalblue\"},\"hatch_color\":{\"type\":\"value\",\"value\":\"royalblue\"}}},\"nonselection_glyph\":{\"type\":\"object\",\"name\":\"VBar\",\"id\":\"p1540\",\"attributes\":{\"x\":{\"type\":\"field\",\"field\":\"days\",\"transform\":{\"id\":\"p1535\"}},\"width\":{\"type\":\"value\",\"value\":0.4},\"top\":{\"type\":\"field\",\"field\":\"premium\"},\"line_color\":{\"type\":\"value\",\"value\":\"royalblue\"},\"line_alpha\":{\"type\":\"value\",\"value\":0.1},\"fill_color\":{\"type\":\"value\",\"value\":\"royalblue\"},\"fill_alpha\":{\"type\":\"value\",\"value\":0.1},\"hatch_color\":{\"type\":\"value\",\"value\":\"royalblue\"},\"hatch_alpha\":{\"type\":\"value\",\"value\":0.1}}},\"muted_glyph\":{\"type\":\"object\",\"name\":\"VBar\",\"id\":\"p1541\",\"attributes\":{\"x\":{\"type\":\"field\",\"field\":\"days\",\"transform\":{\"id\":\"p1535\"}},\"width\":{\"type\":\"value\",\"value\":0.4},\"top\":{\"type\":\"field\",\"field\":\"premium\"},\"line_color\":{\"type\":\"value\",\"value\":\"royalblue\"},\"line_alpha\":{\"type\":\"value\",\"value\":0.2},\"fill_color\":{\"type\":\"value\",\"value\":\"royalblue\"},\"fill_alpha\":{\"type\":\"value\",\"value\":0.2},\"hatch_color\":{\"type\":\"value\",\"value\":\"royalblue\"},\"hatch_alpha\":{\"type\":\"value\",\"value\":0.2}}}}},{\"type\":\"object\",\"name\":\"GlyphRenderer\",\"id\":\"p1554\",\"attributes\":{\"data_source\":{\"id\":\"p1496\"},\"view\":{\"type\":\"object\",\"name\":\"CDSView\",\"id\":\"p1555\",\"attributes\":{\"filter\":{\"type\":\"object\",\"name\":\"AllIndices\",\"id\":\"p1556\"}}},\"glyph\":{\"type\":\"object\",\"name\":\"VBar\",\"id\":\"p1551\",\"attributes\":{\"x\":{\"type\":\"field\",\"field\":\"days\",\"transform\":{\"type\":\"object\",\"name\":\"Dodge\",\"id\":\"p1547\",\"attributes\":{\"value\":0.2,\"range\":{\"id\":\"p1509\"}}}},\"width\":{\"type\":\"value\",\"value\":0.4},\"top\":{\"type\":\"field\",\"field\":\"unlock\"},\"line_color\":{\"type\":\"value\",\"value\":\"orange\"},\"fill_color\":{\"type\":\"value\",\"value\":\"orange\"},\"hatch_color\":{\"type\":\"value\",\"value\":\"orange\"}}},\"nonselection_glyph\":{\"type\":\"object\",\"name\":\"VBar\",\"id\":\"p1552\",\"attributes\":{\"x\":{\"type\":\"field\",\"field\":\"days\",\"transform\":{\"id\":\"p1547\"}},\"width\":{\"type\":\"value\",\"value\":0.4},\"top\":{\"type\":\"field\",\"field\":\"unlock\"},\"line_color\":{\"type\":\"value\",\"value\":\"orange\"},\"line_alpha\":{\"type\":\"value\",\"value\":0.1},\"fill_color\":{\"type\":\"value\",\"value\":\"orange\"},\"fill_alpha\":{\"type\":\"value\",\"value\":0.1},\"hatch_color\":{\"type\":\"value\",\"value\":\"orange\"},\"hatch_alpha\":{\"type\":\"value\",\"value\":0.1}}},\"muted_glyph\":{\"type\":\"object\",\"name\":\"VBar\",\"id\":\"p1553\",\"attributes\":{\"x\":{\"type\":\"field\",\"field\":\"days\",\"transform\":{\"id\":\"p1547\"}},\"width\":{\"type\":\"value\",\"value\":0.4},\"top\":{\"type\":\"field\",\"field\":\"unlock\"},\"line_color\":{\"type\":\"value\",\"value\":\"orange\"},\"line_alpha\":{\"type\":\"value\",\"value\":0.2},\"fill_color\":{\"type\":\"value\",\"value\":\"orange\"},\"fill_alpha\":{\"type\":\"value\",\"value\":0.2},\"hatch_color\":{\"type\":\"value\",\"value\":\"orange\"},\"hatch_alpha\":{\"type\":\"value\",\"value\":0.2}}}}}],\"toolbar\":{\"type\":\"object\",\"name\":\"Toolbar\",\"id\":\"p1508\",\"attributes\":{\"tools\":[{\"type\":\"object\",\"name\":\"PanTool\",\"id\":\"p1522\"},{\"type\":\"object\",\"name\":\"WheelZoomTool\",\"id\":\"p1523\",\"attributes\":{\"renderers\":\"auto\"}},{\"type\":\"object\",\"name\":\"BoxZoomTool\",\"id\":\"p1524\",\"attributes\":{\"overlay\":{\"type\":\"object\",\"name\":\"BoxAnnotation\",\"id\":\"p1525\",\"attributes\":{\"syncable\":false,\"line_color\":\"black\",\"line_alpha\":1.0,\"line_width\":2,\"line_dash\":[4,4],\"fill_color\":\"lightgrey\",\"fill_alpha\":0.5,\"level\":\"overlay\",\"visible\":false,\"left\":{\"type\":\"number\",\"value\":\"nan\"},\"right\":{\"type\":\"number\",\"value\":\"nan\"},\"top\":{\"type\":\"number\",\"value\":\"nan\"},\"bottom\":{\"type\":\"number\",\"value\":\"nan\"},\"left_units\":\"canvas\",\"right_units\":\"canvas\",\"top_units\":\"canvas\",\"bottom_units\":\"canvas\",\"handles\":{\"type\":\"object\",\"name\":\"BoxInteractionHandles\",\"id\":\"p1531\",\"attributes\":{\"all\":{\"type\":\"object\",\"name\":\"AreaVisuals\",\"id\":\"p1530\",\"attributes\":{\"fill_color\":\"white\",\"hover_fill_color\":\"lightgray\"}}}}}}}},{\"type\":\"object\",\"name\":\"SaveTool\",\"id\":\"p1532\"},{\"type\":\"object\",\"name\":\"ResetTool\",\"id\":\"p1533\"},{\"type\":\"object\",\"name\":\"HelpTool\",\"id\":\"p1534\"}]}},\"toolbar_location\":null,\"left\":[{\"type\":\"object\",\"name\":\"LinearAxis\",\"id\":\"p1517\",\"attributes\":{\"ticker\":{\"type\":\"object\",\"name\":\"BasicTicker\",\"id\":\"p1518\",\"attributes\":{\"mantissas\":[1,2,5]}},\"formatter\":{\"type\":\"object\",\"name\":\"BasicTickFormatter\",\"id\":\"p1519\"},\"axis_label\":\"Sales Volume\",\"major_label_policy\":{\"type\":\"object\",\"name\":\"AllLabels\",\"id\":\"p1520\"}}}],\"below\":[{\"type\":\"object\",\"name\":\"CategoricalAxis\",\"id\":\"p1512\",\"attributes\":{\"ticker\":{\"type\":\"object\",\"name\":\"CategoricalTicker\",\"id\":\"p1513\"},\"formatter\":{\"type\":\"object\",\"name\":\"CategoricalTickFormatter\",\"id\":\"p1514\"},\"axis_label\":\"Day of Week\",\"major_label_policy\":{\"type\":\"object\",\"name\":\"AllLabels\",\"id\":\"p1515\"}}}],\"center\":[{\"type\":\"object\",\"name\":\"Grid\",\"id\":\"p1516\",\"attributes\":{\"axis\":{\"id\":\"p1512\"}}},{\"type\":\"object\",\"name\":\"Grid\",\"id\":\"p1521\",\"attributes\":{\"dimension\":1,\"axis\":{\"id\":\"p1517\"}}},{\"type\":\"object\",\"name\":\"Legend\",\"id\":\"p1545\",\"attributes\":{\"location\":\"top_left\",\"title\":\"Sales Type\",\"items\":[{\"type\":\"object\",\"name\":\"LegendItem\",\"id\":\"p1546\",\"attributes\":{\"label\":{\"type\":\"value\",\"value\":\"Premium Sales\"},\"renderers\":[{\"id\":\"p1542\"}]}},{\"type\":\"object\",\"name\":\"LegendItem\",\"id\":\"p1557\",\"attributes\":{\"label\":{\"type\":\"value\",\"value\":\"Unlock Sales\"},\"renderers\":[{\"id\":\"p1554\"}]}}]}}]}}]}};\n  const render_items = [{\"docid\":\"c0ada871-edfd-46cb-b020-3d7139dae397\",\"roots\":{\"p1499\":\"e039c188-38a6-4022-b432-b4220f378950\"},\"root_ids\":[\"p1499\"]}];\n  void root.Bokeh.embed.embed_items_notebook(docs_json, render_items);\n  }\n  if (root.Bokeh !== undefined) {\n    embed_document(root);\n  } else {\n    let attempts = 0;\n    const timer = setInterval(function(root) {\n      if (root.Bokeh !== undefined) {\n        clearInterval(timer);\n        embed_document(root);\n      } else {\n        attempts++;\n        if (attempts > 100) {\n          clearInterval(timer);\n          console.log(\"Bokeh: ERROR: Unable to run BokehJS code because BokehJS library is missing\");\n        }\n      }\n    }, 10, root)\n  }\n})(window);",
      "application/vnd.bokehjs_exec.v0+json": ""
     },
     "metadata": {
      "application/vnd.bokehjs_exec.v0+json": {
       "id": "p1499"
      }
     },
     "output_type": "display_data"
    }
   ],
   "source": [
    "###################TOTAL FIGURE###############\n",
    "\n",
    "# Output the visualization directly in the notebook\n",
    "output_notebook()\n",
    "\n",
    "# Extract x and y values from the dictionary\n",
    "x_values = list(days_sales_volume_total.keys())  # [\"Mon\", \"Tue\", ...]\n",
    "y_values = list(days_sales_volume_total.values())  # Corresponding sales amounts\n",
    "\n",
    "# Create a Bokeh data source\n",
    "source = ColumnDataSource(data=dict(days=x_values, sales=y_values))\n",
    "\n",
    "# Create a figure\n",
    "fig = figure(title='Average Sales Volume per Weekday',\n",
    "             height=400, width=700,\n",
    "             x_axis_label='Day of Week', y_axis_label='Sales Volume',\n",
    "             x_range=x_values,  # Ensure correct categorical axis\n",
    "             toolbar_location=None)\n",
    "\n",
    "# Add bars to the figure\n",
    "fig.vbar(x='days', top='sales', width=0.5, source=source, \n",
    "         fill_color=factor_cmap('days', palette=\"Blues7\", factors=x_values))\n",
    "\n",
    "# Show the plot\n",
    "show(fig)\n",
    "\n",
    "\n",
    "##############PREMIUM+UNLOCK FIGURE################\n",
    "# Output the visualization in the notebook\n",
    "output_notebook()\n",
    "\n",
    "# Extract x-axis labels (weekdays)\n",
    "x_values = list(days_sales_volume_premium.keys())  # [\"Mon\", \"Tue\", \"Wed\", ...]\n",
    "\n",
    "# Extract y-axis values (sales volume) for both categories\n",
    "premium_sales = list(days_sales_volume_premium.values())\n",
    "unlock_sales = list(days_sales_volume_unlock.values())\n",
    "\n",
    "# Create a Bokeh data source\n",
    "source = ColumnDataSource(data=dict(days=x_values, premium=premium_sales, unlock=unlock_sales))\n",
    "\n",
    "# Create figure\n",
    "fig = figure(title='Average Sales Volume per Weekday (Premium vs Unlock)',\n",
    "             height=400, width=700,\n",
    "             x_axis_label='Day of Week', y_axis_label='Sales Volume',\n",
    "             x_range=x_values,  # Ensures categorical axis\n",
    "             toolbar_location=None)\n",
    "\n",
    "# Bar width and dodge distance\n",
    "bar_width = 0.4  # Adjust width for better spacing\n",
    "dodge_dist = 0.2  # Moves one bar left and the other right\n",
    "\n",
    "# Add bars for Premium Sales\n",
    "fig.vbar(x=dodge('days', -dodge_dist, range=fig.x_range), \n",
    "         top='premium', width=bar_width, source=source, \n",
    "         color=\"royalblue\", legend_label=\"Premium Sales\")\n",
    "\n",
    "# Add bars for Unlock Sales\n",
    "fig.vbar(x=dodge('days', dodge_dist, range=fig.x_range), \n",
    "         top='unlock', width=bar_width, source=source, \n",
    "         color=\"orange\", legend_label=\"Unlock Sales\")\n",
    "\n",
    "# Customize legend\n",
    "fig.legend.title = \"Sales Type\"\n",
    "fig.legend.location = \"top_left\"\n",
    "\n",
    "# Show plot\n",
    "show(fig)"
   ]
  }
 ],
 "metadata": {
  "kernelspec": {
   "display_name": "DASC_ass1",
   "language": "python",
   "name": "python3"
  },
  "language_info": {
   "codemirror_mode": {
    "name": "ipython",
    "version": 3
   },
   "file_extension": ".py",
   "mimetype": "text/x-python",
   "name": "python",
   "nbconvert_exporter": "python",
   "pygments_lexer": "ipython3",
   "version": "3.13.2"
  }
 },
 "nbformat": 4,
 "nbformat_minor": 2
}
