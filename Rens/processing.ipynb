{
 "cells": [
  {
   "cell_type": "code",
   "execution_count": null,
   "metadata": {},
   "outputs": [],
   "source": [
    "import numpy as np\n",
    "import pandas as pd\n",
    "import datetime as dt"
   ]
  },
  {
   "cell_type": "code",
   "execution_count": 1,
   "metadata": {},
   "outputs": [
    {
     "ename": "NameError",
     "evalue": "name 'pd' is not defined",
     "output_type": "error",
     "traceback": [
      "\u001b[0;31m---------------------------------------------------------------------------\u001b[0m",
      "\u001b[0;31mNameError\u001b[0m                                 Traceback (most recent call last)",
      "Cell \u001b[0;32mIn[1], line 8\u001b[0m\n\u001b[1;32m      6\u001b[0m \u001b[38;5;66;03m#Crashes\u001b[39;00m\n\u001b[1;32m      7\u001b[0m \u001b[38;5;28;01mfor\u001b[39;00m name \u001b[38;5;129;01min\u001b[39;00m append_string_list1:\n\u001b[0;32m----> 8\u001b[0m     first_df \u001b[38;5;241m=\u001b[39m pd\u001b[38;5;241m.\u001b[39mread_csv(\u001b[38;5;124mf\u001b[39m\u001b[38;5;124m\"\u001b[39m\u001b[38;5;124m./data/stats_crashes_\u001b[39m\u001b[38;5;132;01m{\u001b[39;00mname\u001b[38;5;132;01m}\u001b[39;00m\u001b[38;5;124m_overview.csv\u001b[39m\u001b[38;5;124m\"\u001b[39m, encoding\u001b[38;5;241m=\u001b[39m\u001b[38;5;124m\"\u001b[39m\u001b[38;5;124mutf-16-LE\u001b[39m\u001b[38;5;124m\"\u001b[39m)\n\u001b[1;32m      9\u001b[0m     first_df\u001b[38;5;241m.\u001b[39mcolumns \u001b[38;5;241m=\u001b[39m first_df\u001b[38;5;241m.\u001b[39mcolumns\u001b[38;5;241m.\u001b[39mstr\u001b[38;5;241m.\u001b[39mlower()\u001b[38;5;66;03m#always lower case column names\u001b[39;00m\n\u001b[1;32m     10\u001b[0m     \u001b[38;5;66;03m# first_df['date'] = pd.to_datetime(first_df['date'])\u001b[39;00m\n",
      "\u001b[0;31mNameError\u001b[0m: name 'pd' is not defined"
     ]
    }
   ],
   "source": [
    "append_string_list1 = [\"202106\",\"202107\",\"202108\",\"202109\",\"202110\",\"202111\",\"202112\"]#the names we try to process\n",
    "final_df_list = []\n",
    "needed_columns = [\"Date\", \"Package Name\", \"Daily Crashes\", \"Daily ANRs\"]\n",
    "needed_columns_lower = [col.lower() for col in needed_columns]#the lower case names\n",
    "\n",
    "#Crashes\n",
    "for name in append_string_list1:\n",
    "    first_df = pd.read_csv(f\"./data/stats_crashes_{name}_overview.csv\", encoding=\"utf-16-LE\")\n",
    "    first_df.columns = first_df.columns.str.lower()#always lower case column names\n",
    "    # first_df['date'] = pd.to_datetime(first_df['date'])\n",
    "    final_df_list.append(first_df[needed_columns_lower])\n",
    "\n",
    "pd.concat(final_df_list).to_csv(\"crashesdf.csv\")"
   ]
  },
  {
   "cell_type": "code",
   "execution_count": null,
   "metadata": {},
   "outputs": [],
   "source": [
    "append_string_list1 = [\"202106\",\"202107\",\"202108\",\"202109\",\"202110\",\"202111\",\"202112\"]#the names we try to process\n",
    "final_df_list = []\n",
    "needed_columns = [\"Date\",\"Package Name\",\"Daily Average Rating\",\"Total Average Rating\"]\n",
    "needed_columns_lower = [col.lower() for col in needed_columns]#the lower case names\n",
    "\n",
    "#Ratings\n",
    "for name in append_string_list1:\n",
    "    first_df = pd.read_csv(f\"./data/stats_ratings_{name}_overview.csv\", encoding=\"utf-16-LE\")\n",
    "    first_df.columns = first_df.columns.str.lower()#always lower case column names\n",
    "    # first_df['date'] = pd.to_datetime(first_df['date'])\n",
    "    final_df_list.append(first_df[needed_columns_lower])\n",
    "\n",
    "pd.concat(final_df_list).to_csv(\"statsoverviewdf.csv\")"
   ]
  },
  {
   "cell_type": "code",
   "execution_count": null,
   "metadata": {},
   "outputs": [],
   "source": [
    "append_string_list1 = [\"202106\",\"202107\",\"202108\",\"202109\",\"202110\",\"202111\",\"202112\"]#the names we try to process\n",
    "final_df_list = []\n",
    "needed_columns = [\"Date\",\"Package Name\",\"Daily Average Rating\",\"Total Average Rating\", \"Country\"]\n",
    "needed_columns_lower = [col.lower() for col in needed_columns]#the lower case names\n",
    "\n",
    "#Country Ratings\n",
    "for name in append_string_list1:\n",
    "    first_df = pd.read_csv(f\"./data/stats_ratings_{name}_country.csv\", encoding=\"utf-16-LE\")\n",
    "    first_df.columns = first_df.columns.str.lower()#always lower case column names\n",
    "    # first_df['date'] = pd.to_datetime(first_df['date'])\n",
    "    final_df_list.append(first_df[needed_columns_lower])\n",
    "\n",
    "pd.concat(final_df_list).to_csv(\"statscountrydf.csv\")"
   ]
  },
  {
   "cell_type": "code",
   "execution_count": null,
   "metadata": {},
   "outputs": [],
   "source": [
    "append_string_list1 = [\"202106\",\"202107\",\"202108\",\"202109\",\"202110\",\"202111\",\"202112\"]#the names we try to process\n",
    "final_df_list = []\n",
    "# needed_columns = [\"Package Name\", \"App Version Code\", \"App Version Name\", \"Reviewer Language\", \"Device\", \n",
    "#         \"date\", \"Review Submit Millis Since Epoch\", \n",
    "#         \"Review Last Update Date and Time\", \"Review Last Update Millis Since Epoch\", \n",
    "#         \"rating\", \"Review Title\", \"Review Text\", \"Developer Reply Date and Time\", \n",
    "#         \"Developer Reply Millis Since Epoch\", \"Developer Reply Text\", \"Review Link\"]\n",
    "column_mapping = {\n",
    "    \"Star Rating\": \"rating\",\n",
    "    \"Review Submit Date and Time\": \"date\"\n",
    "}\n",
    "# needed_columns_lower = [column_mapping.get(col, col).lower() for col in needed_columns]#the lower case names\n",
    "#Country Ratings\n",
    "for name in append_string_list1:\n",
    "    first_df = pd.read_csv(f\"./data/reviews_{name}.csv\", encoding=\"utf-16-LE\")\n",
    "    first_df = first_df.rename(columns=column_mapping)\n",
    "    first_df[\"date\"] = first_df[\"date\"].astype(str).str[:10]\n",
    "    first_df[\"date\"] = pd.to_datetime(first_df[\"date\"], format='%Y-%m-%d', errors=\"coerce\")\n",
    "    first_df = first_df[first_df[\"date\"] >= pd.to_datetime(\"2021-06-01\")]\n",
    "    first_df.columns = first_df.columns.str.lower()#always lower case column names\n",
    "    final_df_list.append(first_df)\n",
    "\n",
    "pd.concat(final_df_list).to_csv(\"reviewdf.csv\")"
   ]
  }
 ],
 "metadata": {
  "kernelspec": {
   "display_name": "assignment1datascience",
   "language": "python",
   "name": "python3"
  },
  "language_info": {
   "codemirror_mode": {
    "name": "ipython",
    "version": 3
   },
   "file_extension": ".py",
   "mimetype": "text/x-python",
   "name": "python",
   "nbconvert_exporter": "python",
   "pygments_lexer": "ipython3",
   "version": "3.12.9"
  }
 },
 "nbformat": 4,
 "nbformat_minor": 2
}
